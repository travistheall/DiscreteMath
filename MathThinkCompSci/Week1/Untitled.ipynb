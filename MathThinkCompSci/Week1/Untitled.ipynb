{
 "cells": [
  {
   "cell_type": "code",
   "execution_count": 4,
   "id": "b09358f9-1d01-45cb-9cdc-7f1c3540e973",
   "metadata": {},
   "outputs": [
    {
     "data": {
      "text/html": [
       "<div>\n",
       "<style scoped>\n",
       "    .dataframe tbody tr th:only-of-type {\n",
       "        vertical-align: middle;\n",
       "    }\n",
       "\n",
       "    .dataframe tbody tr th {\n",
       "        vertical-align: top;\n",
       "    }\n",
       "\n",
       "    .dataframe thead th {\n",
       "        text-align: right;\n",
       "    }\n",
       "</style>\n",
       "<table border=\"1\" class=\"dataframe\">\n",
       "  <thead>\n",
       "    <tr style=\"text-align: right;\">\n",
       "      <th></th>\n",
       "      <th>0</th>\n",
       "      <th>1</th>\n",
       "      <th>2</th>\n",
       "      <th>3</th>\n",
       "      <th>4</th>\n",
       "      <th>5</th>\n",
       "      <th>6</th>\n",
       "      <th>7</th>\n",
       "    </tr>\n",
       "  </thead>\n",
       "  <tbody>\n",
       "    <tr>\n",
       "      <th>A</th>\n",
       "      <td>0</td>\n",
       "      <td>0</td>\n",
       "      <td>0</td>\n",
       "      <td>0</td>\n",
       "      <td>0</td>\n",
       "      <td>0</td>\n",
       "      <td>0</td>\n",
       "      <td>0</td>\n",
       "    </tr>\n",
       "    <tr>\n",
       "      <th>B</th>\n",
       "      <td>0</td>\n",
       "      <td>0</td>\n",
       "      <td>0</td>\n",
       "      <td>0</td>\n",
       "      <td>0</td>\n",
       "      <td>0</td>\n",
       "      <td>0</td>\n",
       "      <td>0</td>\n",
       "    </tr>\n",
       "    <tr>\n",
       "      <th>C</th>\n",
       "      <td>0</td>\n",
       "      <td>0</td>\n",
       "      <td>0</td>\n",
       "      <td>0</td>\n",
       "      <td>0</td>\n",
       "      <td>0</td>\n",
       "      <td>0</td>\n",
       "      <td>0</td>\n",
       "    </tr>\n",
       "    <tr>\n",
       "      <th>D</th>\n",
       "      <td>0</td>\n",
       "      <td>0</td>\n",
       "      <td>0</td>\n",
       "      <td>0</td>\n",
       "      <td>0</td>\n",
       "      <td>0</td>\n",
       "      <td>0</td>\n",
       "      <td>0</td>\n",
       "    </tr>\n",
       "    <tr>\n",
       "      <th>E</th>\n",
       "      <td>0</td>\n",
       "      <td>0</td>\n",
       "      <td>0</td>\n",
       "      <td>0</td>\n",
       "      <td>0</td>\n",
       "      <td>0</td>\n",
       "      <td>0</td>\n",
       "      <td>0</td>\n",
       "    </tr>\n",
       "    <tr>\n",
       "      <th>F</th>\n",
       "      <td>0</td>\n",
       "      <td>0</td>\n",
       "      <td>0</td>\n",
       "      <td>0</td>\n",
       "      <td>0</td>\n",
       "      <td>0</td>\n",
       "      <td>0</td>\n",
       "      <td>0</td>\n",
       "    </tr>\n",
       "    <tr>\n",
       "      <th>G</th>\n",
       "      <td>0</td>\n",
       "      <td>0</td>\n",
       "      <td>0</td>\n",
       "      <td>0</td>\n",
       "      <td>0</td>\n",
       "      <td>0</td>\n",
       "      <td>0</td>\n",
       "      <td>0</td>\n",
       "    </tr>\n",
       "    <tr>\n",
       "      <th>H</th>\n",
       "      <td>0</td>\n",
       "      <td>0</td>\n",
       "      <td>0</td>\n",
       "      <td>0</td>\n",
       "      <td>0</td>\n",
       "      <td>0</td>\n",
       "      <td>0</td>\n",
       "      <td>0</td>\n",
       "    </tr>\n",
       "  </tbody>\n",
       "</table>\n",
       "</div>"
      ],
      "text/plain": [
       "   0  1  2  3  4  5  6  7\n",
       "A  0  0  0  0  0  0  0  0\n",
       "B  0  0  0  0  0  0  0  0\n",
       "C  0  0  0  0  0  0  0  0\n",
       "D  0  0  0  0  0  0  0  0\n",
       "E  0  0  0  0  0  0  0  0\n",
       "F  0  0  0  0  0  0  0  0\n",
       "G  0  0  0  0  0  0  0  0\n",
       "H  0  0  0  0  0  0  0  0"
      ]
     },
     "execution_count": 4,
     "metadata": {},
     "output_type": "execute_result"
    }
   ],
   "source": [
    "# N queens\n",
    "# 8 queens\n",
    "import numpy as np\n",
    "import pandas as pd\n",
    "import string\n",
    "\n",
    "A_H = [letter for letter in string.ascii_uppercase[:8]]\n",
    "_0_7 = [number for number in range(8)]\n",
    "chessboard = pd.DataFrame([\n",
    "    ['0' for x in range(8)] for x in range(8)\n",
    "], columns=_0_7, index=A_H)\n",
    "queen = \"Q\"\n",
    "unavail = 'U'\n",
    "chessboard"
   ]
  },
  {
   "cell_type": "code",
   "execution_count": 7,
   "id": "599a7e2a-a7b9-43f5-9eba-07089304181c",
   "metadata": {},
   "outputs": [],
   "source": [
    "def fill_row(row):\n",
    "    for col in _0_7:\n",
    "        _at = chessboard.at[row, col]\n",
    "        if _at != queen:\n",
    "            chessboard.at[row, col] = unavail\n",
    "\n",
    "            \n",
    "def fill_col(col):\n",
    "    for row in _0_7:\n",
    "        _at = chessboard.at[row, col]\n",
    "        if _at != queen:\n",
    "            chessboard.at[row, col] = unavail\n",
    "\n",
    "\n",
    "def fill_diag(row, col):\n",
    "    for i in _0_7:\n",
    "        row = i\n",
    "        col = i\n",
    "        _at = chessboard.at[row, col]\n",
    "        if _at != queen:\n",
    "            chessboard.at[row, col] = unavail\n",
    "    \n",
    "def place_queen(row, col):\n",
    "    fill_row(row)\n",
    "    fill_col(col)\n",
    "    fill_diag(row,col)\n",
    "    chessboard.at[row,col]=queen"
   ]
  },
  {
   "cell_type": "code",
   "execution_count": 8,
   "id": "99fd6ea7-8af9-4370-a362-29f9c88753dd",
   "metadata": {},
   "outputs": [
    {
     "data": {
      "text/html": [
       "<div>\n",
       "<style scoped>\n",
       "    .dataframe tbody tr th:only-of-type {\n",
       "        vertical-align: middle;\n",
       "    }\n",
       "\n",
       "    .dataframe tbody tr th {\n",
       "        vertical-align: top;\n",
       "    }\n",
       "\n",
       "    .dataframe thead th {\n",
       "        text-align: right;\n",
       "    }\n",
       "</style>\n",
       "<table border=\"1\" class=\"dataframe\">\n",
       "  <thead>\n",
       "    <tr style=\"text-align: right;\">\n",
       "      <th></th>\n",
       "      <th>0</th>\n",
       "      <th>1</th>\n",
       "      <th>2</th>\n",
       "      <th>3</th>\n",
       "      <th>4</th>\n",
       "      <th>5</th>\n",
       "      <th>6</th>\n",
       "      <th>7</th>\n",
       "    </tr>\n",
       "  </thead>\n",
       "  <tbody>\n",
       "    <tr>\n",
       "      <th>0</th>\n",
       "      <td>Q</td>\n",
       "      <td>U</td>\n",
       "      <td>U</td>\n",
       "      <td>U</td>\n",
       "      <td>U</td>\n",
       "      <td>U</td>\n",
       "      <td>U</td>\n",
       "      <td>U</td>\n",
       "    </tr>\n",
       "    <tr>\n",
       "      <th>1</th>\n",
       "      <td>U</td>\n",
       "      <td>U</td>\n",
       "      <td>0</td>\n",
       "      <td>0</td>\n",
       "      <td>0</td>\n",
       "      <td>0</td>\n",
       "      <td>0</td>\n",
       "      <td>0</td>\n",
       "    </tr>\n",
       "    <tr>\n",
       "      <th>2</th>\n",
       "      <td>U</td>\n",
       "      <td>0</td>\n",
       "      <td>U</td>\n",
       "      <td>0</td>\n",
       "      <td>0</td>\n",
       "      <td>0</td>\n",
       "      <td>0</td>\n",
       "      <td>0</td>\n",
       "    </tr>\n",
       "    <tr>\n",
       "      <th>3</th>\n",
       "      <td>U</td>\n",
       "      <td>0</td>\n",
       "      <td>0</td>\n",
       "      <td>U</td>\n",
       "      <td>0</td>\n",
       "      <td>0</td>\n",
       "      <td>0</td>\n",
       "      <td>0</td>\n",
       "    </tr>\n",
       "    <tr>\n",
       "      <th>4</th>\n",
       "      <td>U</td>\n",
       "      <td>0</td>\n",
       "      <td>0</td>\n",
       "      <td>0</td>\n",
       "      <td>U</td>\n",
       "      <td>0</td>\n",
       "      <td>0</td>\n",
       "      <td>0</td>\n",
       "    </tr>\n",
       "    <tr>\n",
       "      <th>5</th>\n",
       "      <td>U</td>\n",
       "      <td>0</td>\n",
       "      <td>0</td>\n",
       "      <td>0</td>\n",
       "      <td>0</td>\n",
       "      <td>U</td>\n",
       "      <td>0</td>\n",
       "      <td>0</td>\n",
       "    </tr>\n",
       "    <tr>\n",
       "      <th>6</th>\n",
       "      <td>U</td>\n",
       "      <td>0</td>\n",
       "      <td>0</td>\n",
       "      <td>0</td>\n",
       "      <td>0</td>\n",
       "      <td>0</td>\n",
       "      <td>U</td>\n",
       "      <td>0</td>\n",
       "    </tr>\n",
       "    <tr>\n",
       "      <th>7</th>\n",
       "      <td>U</td>\n",
       "      <td>0</td>\n",
       "      <td>0</td>\n",
       "      <td>0</td>\n",
       "      <td>0</td>\n",
       "      <td>0</td>\n",
       "      <td>0</td>\n",
       "      <td>U</td>\n",
       "    </tr>\n",
       "  </tbody>\n",
       "</table>\n",
       "</div>"
      ],
      "text/plain": [
       "   0  1  2  3  4  5  6  7\n",
       "0  Q  U  U  U  U  U  U  U\n",
       "1  U  U  0  0  0  0  0  0\n",
       "2  U  0  U  0  0  0  0  0\n",
       "3  U  0  0  U  0  0  0  0\n",
       "4  U  0  0  0  U  0  0  0\n",
       "5  U  0  0  0  0  U  0  0\n",
       "6  U  0  0  0  0  0  U  0\n",
       "7  U  0  0  0  0  0  0  U"
      ]
     },
     "execution_count": 8,
     "metadata": {},
     "output_type": "execute_result"
    }
   ],
   "source": [
    "place_queen(0,0)\n",
    "chessboard"
   ]
  },
  {
   "cell_type": "code",
   "execution_count": null,
   "id": "80a70cf1-d48f-4269-b1d4-192845b78d6c",
   "metadata": {},
   "outputs": [],
   "source": [
    "row = 4\n",
    "col = 0\n",
    "\n",
    "    _at = chessboard.at[row, col]\n",
    "        if _at != queen:\n",
    "            chessboard.at[row, col] = unavail"
   ]
  },
  {
   "cell_type": "code",
   "execution_count": 5,
   "id": "b2e27c65-40a3-48b5-99a6-96106c6497f4",
   "metadata": {},
   "outputs": [],
   "source": [
    "A_H = [letter for letter in string.ascii_uppercase[:8]]\n",
    "A_H.insert(0,'letter')"
   ]
  },
  {
   "cell_type": "code",
   "execution_count": 6,
   "id": "1af38f3f-8dda-4d12-a847-6dfcd7125bed",
   "metadata": {},
   "outputs": [
    {
     "data": {
      "text/plain": [
       "['letter', 'A', 'B', 'C', 'D', 'E', 'F', 'G', 'H']"
      ]
     },
     "execution_count": 6,
     "metadata": {},
     "output_type": "execute_result"
    }
   ],
   "source": [
    "A_H"
   ]
  },
  {
   "cell_type": "code",
   "execution_count": 15,
   "id": "baec82d8-b6bc-41f1-9639-15e738feb677",
   "metadata": {},
   "outputs": [],
   "source": [
    "df = pd.DataFrame(\n",
    "            data=[[None for i in range(9)] for j in range(9)],\n",
    "            columns=[number for number in range(9)],\n",
    "            index=[letter for letter in string.ascii_uppercase[:8]].insert(0, 'letters')\n",
    "        )"
   ]
  },
  {
   "cell_type": "code",
   "execution_count": 20,
   "id": "2325a502-2838-4d43-b403-5cdeab10d1e0",
   "metadata": {},
   "outputs": [
    {
     "data": {
      "text/plain": [
       "Int64Index([0, 1, 2, 3, 4, 5, 6, 7, 8], dtype='int64')"
      ]
     },
     "execution_count": 20,
     "metadata": {},
     "output_type": "execute_result"
    }
   ],
   "source": [
    "df.columns"
   ]
  },
  {
   "cell_type": "code",
   "execution_count": 22,
   "id": "c6f689ca-139a-401d-be69-207e4f62205d",
   "metadata": {},
   "outputs": [
    {
     "data": {
      "text/plain": [
       "RangeIndex(start=0, stop=9, step=1)"
      ]
     },
     "execution_count": 22,
     "metadata": {},
     "output_type": "execute_result"
    }
   ],
   "source": [
    "df.index"
   ]
  },
  {
   "cell_type": "code",
   "execution_count": 43,
   "id": "8c4111a4-2c2d-43b4-a364-644c09358185",
   "metadata": {},
   "outputs": [
    {
     "data": {
      "text/plain": [
       "['Z', 'A', 'B', 'C', 'D', 'E', 'F', 'G', 'H']"
      ]
     },
     "execution_count": 43,
     "metadata": {},
     "output_type": "execute_result"
    }
   ],
   "source": [
    "[\"Z\"]+[letter for letter in string.ascii_uppercase[:8]]"
   ]
  },
  {
   "cell_type": "code",
   "execution_count": 29,
   "id": "d87a1ffe-6517-4c38-8a87-e6bd77f2834a",
   "metadata": {},
   "outputs": [],
   "source": [
    "="
   ]
  },
  {
   "cell_type": "code",
   "execution_count": 118,
   "id": "ca9c5e4d-542b-496a-aa46-6a193df6becf",
   "metadata": {},
   "outputs": [
    {
     "data": {
      "text/html": [
       "<div>\n",
       "<style scoped>\n",
       "    .dataframe tbody tr th:only-of-type {\n",
       "        vertical-align: middle;\n",
       "    }\n",
       "\n",
       "    .dataframe tbody tr th {\n",
       "        vertical-align: top;\n",
       "    }\n",
       "\n",
       "    .dataframe thead th {\n",
       "        text-align: right;\n",
       "    }\n",
       "</style>\n",
       "<table border=\"1\" class=\"dataframe\">\n",
       "  <thead>\n",
       "    <tr style=\"text-align: right;\">\n",
       "      <th></th>\n",
       "      <th>0</th>\n",
       "      <th>1</th>\n",
       "      <th>2</th>\n",
       "      <th>3</th>\n",
       "      <th>4</th>\n",
       "      <th>5</th>\n",
       "      <th>6</th>\n",
       "      <th>7</th>\n",
       "      <th>8</th>\n",
       "    </tr>\n",
       "  </thead>\n",
       "  <tbody>\n",
       "    <tr>\n",
       "      <th>z</th>\n",
       "      <td>(0, 0)</td>\n",
       "      <td>(200, 0)</td>\n",
       "      <td>(400, 0)</td>\n",
       "      <td>(600, 0)</td>\n",
       "      <td>(800, 0)</td>\n",
       "      <td>(1000, 0)</td>\n",
       "      <td>(1200, 0)</td>\n",
       "      <td>(1400, 0)</td>\n",
       "      <td>(1600, 0)</td>\n",
       "    </tr>\n",
       "    <tr>\n",
       "      <th>A</th>\n",
       "      <td>(0, 200)</td>\n",
       "      <td>(200, 200)</td>\n",
       "      <td>(400, 200)</td>\n",
       "      <td>(600, 200)</td>\n",
       "      <td>(800, 200)</td>\n",
       "      <td>(1000, 200)</td>\n",
       "      <td>(1200, 200)</td>\n",
       "      <td>(1400, 200)</td>\n",
       "      <td>(1600, 200)</td>\n",
       "    </tr>\n",
       "    <tr>\n",
       "      <th>B</th>\n",
       "      <td>(0, 400)</td>\n",
       "      <td>(200, 400)</td>\n",
       "      <td>(400, 400)</td>\n",
       "      <td>(600, 400)</td>\n",
       "      <td>(800, 400)</td>\n",
       "      <td>(1000, 400)</td>\n",
       "      <td>(1200, 400)</td>\n",
       "      <td>(1400, 400)</td>\n",
       "      <td>(1600, 400)</td>\n",
       "    </tr>\n",
       "    <tr>\n",
       "      <th>C</th>\n",
       "      <td>(0, 600)</td>\n",
       "      <td>(200, 600)</td>\n",
       "      <td>(400, 600)</td>\n",
       "      <td>(600, 600)</td>\n",
       "      <td>(800, 600)</td>\n",
       "      <td>(1000, 600)</td>\n",
       "      <td>(1200, 600)</td>\n",
       "      <td>(1400, 600)</td>\n",
       "      <td>(1600, 600)</td>\n",
       "    </tr>\n",
       "    <tr>\n",
       "      <th>D</th>\n",
       "      <td>(0, 800)</td>\n",
       "      <td>(200, 800)</td>\n",
       "      <td>(400, 800)</td>\n",
       "      <td>(600, 800)</td>\n",
       "      <td>(800, 800)</td>\n",
       "      <td>(1000, 800)</td>\n",
       "      <td>(1200, 800)</td>\n",
       "      <td>(1400, 800)</td>\n",
       "      <td>(1600, 800)</td>\n",
       "    </tr>\n",
       "    <tr>\n",
       "      <th>E</th>\n",
       "      <td>(0, 1000)</td>\n",
       "      <td>(200, 1000)</td>\n",
       "      <td>(400, 1000)</td>\n",
       "      <td>(600, 1000)</td>\n",
       "      <td>(800, 1000)</td>\n",
       "      <td>(1000, 1000)</td>\n",
       "      <td>(1200, 1000)</td>\n",
       "      <td>(1400, 1000)</td>\n",
       "      <td>(1600, 1000)</td>\n",
       "    </tr>\n",
       "    <tr>\n",
       "      <th>F</th>\n",
       "      <td>(0, 1200)</td>\n",
       "      <td>(200, 1200)</td>\n",
       "      <td>(400, 1200)</td>\n",
       "      <td>(600, 1200)</td>\n",
       "      <td>(800, 1200)</td>\n",
       "      <td>(1000, 1200)</td>\n",
       "      <td>(1200, 1200)</td>\n",
       "      <td>(1400, 1200)</td>\n",
       "      <td>(1600, 1200)</td>\n",
       "    </tr>\n",
       "    <tr>\n",
       "      <th>G</th>\n",
       "      <td>(0, 1400)</td>\n",
       "      <td>(200, 1400)</td>\n",
       "      <td>(400, 1400)</td>\n",
       "      <td>(600, 1400)</td>\n",
       "      <td>(800, 1400)</td>\n",
       "      <td>(1000, 1400)</td>\n",
       "      <td>(1200, 1400)</td>\n",
       "      <td>(1400, 1400)</td>\n",
       "      <td>(1600, 1400)</td>\n",
       "    </tr>\n",
       "    <tr>\n",
       "      <th>H</th>\n",
       "      <td>(0, 1600)</td>\n",
       "      <td>(200, 1600)</td>\n",
       "      <td>(400, 1600)</td>\n",
       "      <td>(600, 1600)</td>\n",
       "      <td>(800, 1600)</td>\n",
       "      <td>(1000, 1600)</td>\n",
       "      <td>(1200, 1600)</td>\n",
       "      <td>(1400, 1600)</td>\n",
       "      <td>(1600, 1600)</td>\n",
       "    </tr>\n",
       "  </tbody>\n",
       "</table>\n",
       "</div>"
      ],
      "text/plain": [
       "           0            1            2            3            4  \\\n",
       "z     (0, 0)     (200, 0)     (400, 0)     (600, 0)     (800, 0)   \n",
       "A   (0, 200)   (200, 200)   (400, 200)   (600, 200)   (800, 200)   \n",
       "B   (0, 400)   (200, 400)   (400, 400)   (600, 400)   (800, 400)   \n",
       "C   (0, 600)   (200, 600)   (400, 600)   (600, 600)   (800, 600)   \n",
       "D   (0, 800)   (200, 800)   (400, 800)   (600, 800)   (800, 800)   \n",
       "E  (0, 1000)  (200, 1000)  (400, 1000)  (600, 1000)  (800, 1000)   \n",
       "F  (0, 1200)  (200, 1200)  (400, 1200)  (600, 1200)  (800, 1200)   \n",
       "G  (0, 1400)  (200, 1400)  (400, 1400)  (600, 1400)  (800, 1400)   \n",
       "H  (0, 1600)  (200, 1600)  (400, 1600)  (600, 1600)  (800, 1600)   \n",
       "\n",
       "              5             6             7             8  \n",
       "z     (1000, 0)     (1200, 0)     (1400, 0)     (1600, 0)  \n",
       "A   (1000, 200)   (1200, 200)   (1400, 200)   (1600, 200)  \n",
       "B   (1000, 400)   (1200, 400)   (1400, 400)   (1600, 400)  \n",
       "C   (1000, 600)   (1200, 600)   (1400, 600)   (1600, 600)  \n",
       "D   (1000, 800)   (1200, 800)   (1400, 800)   (1600, 800)  \n",
       "E  (1000, 1000)  (1200, 1000)  (1400, 1000)  (1600, 1000)  \n",
       "F  (1000, 1200)  (1200, 1200)  (1400, 1200)  (1600, 1200)  \n",
       "G  (1000, 1400)  (1200, 1400)  (1400, 1400)  (1600, 1400)  \n",
       "H  (1000, 1600)  (1200, 1600)  (1400, 1600)  (1600, 1600)  "
      ]
     },
     "execution_count": 118,
     "metadata": {},
     "output_type": "execute_result"
    }
   ],
   "source": [
    "df = pd.DataFrame(\n",
    "            data=[[(col*200, row*200) for col in range(9)] for row in range(9)],\n",
    "            columns=[number for number in range(9)],\n",
    "            index=['z']+[letter for letter in string.ascii_uppercase[:8]]\n",
    "        )\n",
    "df"
   ]
  },
  {
   "cell_type": "code",
   "execution_count": 113,
   "id": "75d9bfee-07fe-4934-a19a-4d9855772603",
   "metadata": {},
   "outputs": [
    {
     "data": {
      "text/plain": [
       "array([(200, 200), (400, 400)], dtype=object)"
      ]
     },
     "execution_count": 113,
     "metadata": {},
     "output_type": "execute_result"
    }
   ],
   "source": [
    "np.diag(df[[0,1,2]].loc[[\"A\",\"B\",\"C\"]] ,k=1)"
   ]
  },
  {
   "cell_type": "code",
   "execution_count": 134,
   "id": "98243cc2-cbcf-4c6e-ab17-4647870fc7d8",
   "metadata": {},
   "outputs": [
    {
     "name": "stdout",
     "output_type": "stream",
     "text": [
      "(600, 200)\n",
      "600\n",
      "(200, 200)\n",
      "200\n"
     ]
    }
   ],
   "source": [
    "col = 2\n",
    "cols = [c for c in [col + 1, col - 1] if c > 0]\n",
    "row = \"A\"\n",
    "\n",
    "a_df = df[cols].loc[row]\n",
    "for r_c in a_df:\n",
    "    print(r_c)\n",
    "    print(r_c[0])\n",
    "    #print(df.at[row, col])"
   ]
  },
  {
   "cell_type": "code",
   "execution_count": 139,
   "id": "36a58ce1-f9b2-4170-bb0d-c50f15104d04",
   "metadata": {},
   "outputs": [
    {
     "data": {
      "text/plain": [
       "True"
      ]
     },
     "execution_count": 139,
     "metadata": {},
     "output_type": "execute_result"
    }
   ],
   "source": [
    "True in [True,False,False]"
   ]
  },
  {
   "cell_type": "code",
   "execution_count": null,
   "id": "35dc8c77-a02b-44d7-ba76-fbf6aa391aaf",
   "metadata": {},
   "outputs": [],
   "source": []
  }
 ],
 "metadata": {
  "kernelspec": {
   "display_name": "Python 3",
   "language": "python",
   "name": "python3"
  },
  "language_info": {
   "codemirror_mode": {
    "name": "ipython",
    "version": 3
   },
   "file_extension": ".py",
   "mimetype": "text/x-python",
   "name": "python",
   "nbconvert_exporter": "python",
   "pygments_lexer": "ipython3",
   "version": "3.8.8"
  }
 },
 "nbformat": 4,
 "nbformat_minor": 5
}
