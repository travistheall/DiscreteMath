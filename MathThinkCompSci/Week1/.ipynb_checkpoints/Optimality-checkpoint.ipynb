{
 "cells": [
  {
   "cell_type": "code",
   "execution_count": 1,
   "id": "c2c64a33-8bce-4181-8722-98b83e100985",
   "metadata": {},
   "outputs": [],
   "source": [
    "import numpy as np\n",
    "import pandas as pd\n",
    "import string"
   ]
  },
  {
   "cell_type": "markdown",
   "id": "6a99e875-746c-4347-894d-a29f029e75c3",
   "metadata": {},
   "source": [
    "<h3>Existential</h3>\n",
    "<p>A factory produces milk chocolate @ \\$10/box and dark chocolate @ \\$30/box. The daily demands are 500 and 200 boxes for milk and dark chocolate, respectively. The factory produces 600 boxes of chocolate per day. \n",
    "    \n",
    "<p>What is the optimum production plan?</p>"
   ]
  },
  {
   "cell_type": "code",
   "execution_count": 2,
   "id": "dce5773d-7d08-4b77-bb2b-2e185a814268",
   "metadata": {},
   "outputs": [],
   "source": [
    "price_milk = 10 #$/box\n",
    "price_dark = 30 #$/box\n",
    "\n",
    "demand_dark = 200 # boxes\n",
    "demand_milk = 500 # boxes\n",
    "capacity_daily = 600 # boxes\n",
    "\n",
    "claim = 10000 # $/day"
   ]
  },
  {
   "cell_type": "markdown",
   "id": "1595a666-2d9e-4f2b-8ee3-77779dd113d5",
   "metadata": {},
   "source": [
    "<p>Plan: produce 400 boxes of milk chocolate and 200 boxes of dark chocolate per day</p>"
   ]
  },
  {
   "cell_type": "code",
   "execution_count": 3,
   "id": "ebe94468-0599-4901-b156-cbe9458cd151",
   "metadata": {},
   "outputs": [
    {
     "data": {
      "text/plain": [
       "10000"
      ]
     },
     "execution_count": 3,
     "metadata": {},
     "output_type": "execute_result"
    }
   ],
   "source": [
    "to_make_milk = 400\n",
    "to_make_dark = 200\n",
    "\n",
    "profit = to_make_milk * price_milk + to_make_dark * price_dark\n",
    "profit"
   ]
  },
  {
   "cell_type": "markdown",
   "id": "44080f10-ee1c-44ca-9b53-1aae3e5486bd",
   "metadata": {},
   "source": [
    "<h3>Univseral Part</h3>\n",
    "<h4>All plans are not better</h4>\n",
    "<p>rules:</p>\n",
    "<p>lte: less than or equal to</p>\n",
    "<ol>\n",
    "    <li>m lte 500</li>\n",
    "    <li>d lte 200</li>\n",
    "    <li>m+d lte 600</li>\n",
    "    <li>10m+30d lte 10000</li>\n",
    "</ol>\n",
    "<p>sum inequalities:</p>\n",
    "<ul>\n",
    "    <li>10m+10d lte 6000 </li>\n",
    "    <li>20d lte 4000</li>\n",
    "</ul>"
   ]
  },
  {
   "cell_type": "markdown",
   "id": "f7dfcd93-90dd-45b6-90aa-a12eba422d50",
   "metadata": {},
   "source": [
    "<h4>Question 1</h4>\n",
    "<p>There are 90 cards with all two-digit numbers on them: </p>\n",
    "<p>10,11,12,...,98,99.</p>\n",
    " \n",
    "\n",
    "</p>A player takes some of these cards simultaneously. For each card taken she gets 1 dollar. However, if the player takes two cards that add up to 100, eg: 23 and 77, she loses all the money. How much could she get? </p>\n",
    "\n",
    "<p>In mathematical language: What is the maximum number of two-digit integers (10,11,...,99) that one can select satisfying the following condition: no two different selected integers have sum 100?</p>"
   ]
  },
  {
   "cell_type": "code",
   "execution_count": 4,
   "id": "59e63581-f5c9-429f-9aba-58f70690614f",
   "metadata": {},
   "outputs": [
    {
     "data": {
      "text/plain": [
       "50"
      ]
     },
     "execution_count": 4,
     "metadata": {},
     "output_type": "execute_result"
    }
   ],
   "source": [
    "# if 10 then no 90, 11 ...89, etc\n",
    "# 40 pairs from 10-90\n",
    "# 10 pairs 50,91,92...99\n",
    "_max = 99\n",
    "_min = 10\n",
    "_10_99 = [x for x in range(_min, _max + 1)]\n",
    "pairs = []\n",
    "alone = []\n",
    "for i in _10_99:\n",
    "    diff = 100 - i\n",
    "    pair = (i, diff)\n",
    "    if (diff, i) in pairs:\n",
    "        pass\n",
    "    elif diff == i:\n",
    "        alone.append(pair)\n",
    "    elif _max > diff > _min:\n",
    "        pairs.append(pair)\n",
    "    else:\n",
    "        alone.append(pair)\n",
    "        \n",
    "        \n",
    "len(pairs)+len(alone)"
   ]
  },
  {
   "cell_type": "markdown",
   "id": "876c0b70-d7ba-4a51-8eaf-b875cc2743b0",
   "metadata": {},
   "source": [
    "<h1>Pigeonhole Principle</h1>\n",
    "<p>lt = less than</p>\n",
    "<p>If n number of pigeons to be places in m number of holes. The box must have m lt n holes</p>\n",
    "\n",
    "<p>Rooks can only be in 1 row / col. So 8 in an 8x8 chesssub_board</p>"
   ]
  },
  {
   "cell_type": "code",
   "execution_count": 5,
   "id": "525fbf20-2df8-406c-950c-905333d48f10",
   "metadata": {},
   "outputs": [
    {
     "data": {
      "text/html": [
       "<div>\n",
       "<style scoped>\n",
       "    .dataframe tbody tr th:only-of-type {\n",
       "        vertical-align: middle;\n",
       "    }\n",
       "\n",
       "    .dataframe tbody tr th {\n",
       "        vertical-align: top;\n",
       "    }\n",
       "\n",
       "    .dataframe thead th {\n",
       "        text-align: right;\n",
       "    }\n",
       "</style>\n",
       "<table border=\"1\" class=\"dataframe\">\n",
       "  <thead>\n",
       "    <tr style=\"text-align: right;\">\n",
       "      <th></th>\n",
       "      <th>1</th>\n",
       "      <th>2</th>\n",
       "    </tr>\n",
       "  </thead>\n",
       "  <tbody>\n",
       "    <tr>\n",
       "      <th>A</th>\n",
       "      <td>0</td>\n",
       "      <td>0</td>\n",
       "    </tr>\n",
       "    <tr>\n",
       "      <th>B</th>\n",
       "      <td>0</td>\n",
       "      <td>0</td>\n",
       "    </tr>\n",
       "    <tr>\n",
       "      <th>C</th>\n",
       "      <td>0</td>\n",
       "      <td>0</td>\n",
       "    </tr>\n",
       "    <tr>\n",
       "      <th>D</th>\n",
       "      <td>0</td>\n",
       "      <td>0</td>\n",
       "    </tr>\n",
       "  </tbody>\n",
       "</table>\n",
       "</div>"
      ],
      "text/plain": [
       "   1  2\n",
       "A  0  0\n",
       "B  0  0\n",
       "C  0  0\n",
       "D  0  0"
      ]
     },
     "execution_count": 5,
     "metadata": {},
     "output_type": "execute_result"
    }
   ],
   "source": [
    "# knights on a chessboard\n",
    "# repartition the 8x8 board into 8 4x2 boards\n",
    "A_D = [letter for letter in string.ascii_uppercase[:4]]\n",
    "sub_board = pd.DataFrame([\n",
    "    [0,0],\n",
    "    [0,0],\n",
    "    [0,0],\n",
    "    [0,0],\n",
    "], columns=[1,2], index=A_D)\n",
    "sub_board"
   ]
  },
  {
   "cell_type": "code",
   "execution_count": 6,
   "id": "57a87faf-d293-4e5b-99a4-31bfb8ddb1ef",
   "metadata": {},
   "outputs": [
    {
     "data": {
      "text/html": [
       "<div>\n",
       "<style scoped>\n",
       "    .dataframe tbody tr th:only-of-type {\n",
       "        vertical-align: middle;\n",
       "    }\n",
       "\n",
       "    .dataframe tbody tr th {\n",
       "        vertical-align: top;\n",
       "    }\n",
       "\n",
       "    .dataframe thead th {\n",
       "        text-align: right;\n",
       "    }\n",
       "</style>\n",
       "<table border=\"1\" class=\"dataframe\">\n",
       "  <thead>\n",
       "    <tr style=\"text-align: right;\">\n",
       "      <th></th>\n",
       "      <th>1</th>\n",
       "      <th>2</th>\n",
       "    </tr>\n",
       "  </thead>\n",
       "  <tbody>\n",
       "    <tr>\n",
       "      <th>A</th>\n",
       "      <td>9</td>\n",
       "      <td>1</td>\n",
       "    </tr>\n",
       "    <tr>\n",
       "      <th>B</th>\n",
       "      <td>1</td>\n",
       "      <td>9</td>\n",
       "    </tr>\n",
       "    <tr>\n",
       "      <th>C</th>\n",
       "      <td>9</td>\n",
       "      <td>1</td>\n",
       "    </tr>\n",
       "    <tr>\n",
       "      <th>D</th>\n",
       "      <td>1</td>\n",
       "      <td>9</td>\n",
       "    </tr>\n",
       "  </tbody>\n",
       "</table>\n",
       "</div>"
      ],
      "text/plain": [
       "   1  2\n",
       "A  9  1\n",
       "B  1  9\n",
       "C  9  1\n",
       "D  1  9"
      ]
     },
     "execution_count": 6,
     "metadata": {},
     "output_type": "execute_result"
    }
   ],
   "source": [
    "# a knight (1) in D1 can attack (9) B2\n",
    "sub_board.at['D',1]=1\n",
    "sub_board.at['B',2]=9\n",
    "# symetrical pair (k @ B1  attacks D2)\n",
    "sub_board.at['B',1]=1\n",
    "sub_board.at['D',2]=9\n",
    "# knight @ A2 attacks C1\n",
    "sub_board.at['A',2]=1\n",
    "sub_board.at['C',1]=9\n",
    "# symetrical pair (k @ C1  attacks A2)\n",
    "sub_board.at['C',2]=1\n",
    "sub_board.at['A',1]=9\n",
    "sub_board"
   ]
  },
  {
   "cell_type": "code",
   "execution_count": 7,
   "id": "8f5ff653-5578-4fb9-a87c-483b121a000f",
   "metadata": {},
   "outputs": [
    {
     "data": {
      "text/plain": [
       "nan"
      ]
     },
     "execution_count": 7,
     "metadata": {},
     "output_type": "execute_result"
    }
   ],
   "source": [
    "knights_per_sub_board = sub_board[sub_board==1].dropna(axis=1, how='all').to_numpy().sum()\n",
    "chessboard = 8*8\n",
    "sub_board_per_chessboard = chessboard / sub_board.size\n",
    "sub_board_per_chessboard * knights_per_sub_board"
   ]
  },
  {
   "cell_type": "code",
   "execution_count": 8,
   "id": "466ae73e-0ee8-4583-8239-497021ff0719",
   "metadata": {},
   "outputs": [
    {
     "data": {
      "text/html": [
       "<div>\n",
       "<style scoped>\n",
       "    .dataframe tbody tr th:only-of-type {\n",
       "        vertical-align: middle;\n",
       "    }\n",
       "\n",
       "    .dataframe tbody tr th {\n",
       "        vertical-align: top;\n",
       "    }\n",
       "\n",
       "    .dataframe thead th {\n",
       "        text-align: right;\n",
       "    }\n",
       "</style>\n",
       "<table border=\"1\" class=\"dataframe\">\n",
       "  <thead>\n",
       "    <tr style=\"text-align: right;\">\n",
       "      <th></th>\n",
       "      <th>1</th>\n",
       "      <th>2</th>\n",
       "      <th>3</th>\n",
       "      <th>4</th>\n",
       "      <th>5</th>\n",
       "      <th>6</th>\n",
       "      <th>7</th>\n",
       "      <th>8</th>\n",
       "    </tr>\n",
       "  </thead>\n",
       "  <tbody>\n",
       "    <tr>\n",
       "      <th>A</th>\n",
       "      <td>0</td>\n",
       "      <td>0</td>\n",
       "      <td>0</td>\n",
       "      <td>0</td>\n",
       "      <td>0</td>\n",
       "      <td>0</td>\n",
       "      <td>0</td>\n",
       "      <td>0</td>\n",
       "    </tr>\n",
       "    <tr>\n",
       "      <th>B</th>\n",
       "      <td>0</td>\n",
       "      <td>0</td>\n",
       "      <td>0</td>\n",
       "      <td>0</td>\n",
       "      <td>0</td>\n",
       "      <td>0</td>\n",
       "      <td>0</td>\n",
       "      <td>0</td>\n",
       "    </tr>\n",
       "    <tr>\n",
       "      <th>C</th>\n",
       "      <td>0</td>\n",
       "      <td>0</td>\n",
       "      <td>0</td>\n",
       "      <td>0</td>\n",
       "      <td>0</td>\n",
       "      <td>0</td>\n",
       "      <td>0</td>\n",
       "      <td>0</td>\n",
       "    </tr>\n",
       "    <tr>\n",
       "      <th>D</th>\n",
       "      <td>0</td>\n",
       "      <td>0</td>\n",
       "      <td>0</td>\n",
       "      <td>0</td>\n",
       "      <td>0</td>\n",
       "      <td>0</td>\n",
       "      <td>0</td>\n",
       "      <td>0</td>\n",
       "    </tr>\n",
       "    <tr>\n",
       "      <th>E</th>\n",
       "      <td>0</td>\n",
       "      <td>0</td>\n",
       "      <td>0</td>\n",
       "      <td>0</td>\n",
       "      <td>0</td>\n",
       "      <td>0</td>\n",
       "      <td>0</td>\n",
       "      <td>0</td>\n",
       "    </tr>\n",
       "    <tr>\n",
       "      <th>F</th>\n",
       "      <td>0</td>\n",
       "      <td>0</td>\n",
       "      <td>0</td>\n",
       "      <td>0</td>\n",
       "      <td>0</td>\n",
       "      <td>0</td>\n",
       "      <td>0</td>\n",
       "      <td>0</td>\n",
       "    </tr>\n",
       "    <tr>\n",
       "      <th>G</th>\n",
       "      <td>0</td>\n",
       "      <td>0</td>\n",
       "      <td>0</td>\n",
       "      <td>0</td>\n",
       "      <td>0</td>\n",
       "      <td>0</td>\n",
       "      <td>0</td>\n",
       "      <td>0</td>\n",
       "    </tr>\n",
       "    <tr>\n",
       "      <th>H</th>\n",
       "      <td>0</td>\n",
       "      <td>0</td>\n",
       "      <td>0</td>\n",
       "      <td>0</td>\n",
       "      <td>0</td>\n",
       "      <td>0</td>\n",
       "      <td>0</td>\n",
       "      <td>0</td>\n",
       "    </tr>\n",
       "  </tbody>\n",
       "</table>\n",
       "</div>"
      ],
      "text/plain": [
       "   1  2  3  4  5  6  7  8\n",
       "A  0  0  0  0  0  0  0  0\n",
       "B  0  0  0  0  0  0  0  0\n",
       "C  0  0  0  0  0  0  0  0\n",
       "D  0  0  0  0  0  0  0  0\n",
       "E  0  0  0  0  0  0  0  0\n",
       "F  0  0  0  0  0  0  0  0\n",
       "G  0  0  0  0  0  0  0  0\n",
       "H  0  0  0  0  0  0  0  0"
      ]
     },
     "execution_count": 8,
     "metadata": {},
     "output_type": "execute_result"
    }
   ],
   "source": [
    "# bishops on a chessboard\n",
    "# partition into 15 diagonals\n",
    "A_H = [letter for letter in string.ascii_uppercase[:8]]\n",
    "_1_8 = [number for number in range(1,9)]\n",
    "chessboard = pd.DataFrame([\n",
    "    [0 for x in range(8)] for x in range(8)\n",
    "], columns=_1_8, index=A_H)\n",
    "chessboard"
   ]
  },
  {
   "cell_type": "code",
   "execution_count": 9,
   "id": "dc2a9fe6-03d4-40f9-9c15-ef701dceddf0",
   "metadata": {},
   "outputs": [],
   "source": [
    "chessboard.at[\"A\", 1] = 1\n",
    "chessboard.at[\"H\", 8] = 1"
   ]
  },
  {
   "cell_type": "code",
   "execution_count": 10,
   "id": "48a02a22-ab55-4e08-ab67-c49f08b0e425",
   "metadata": {},
   "outputs": [
    {
     "data": {
      "text/html": [
       "<div>\n",
       "<style scoped>\n",
       "    .dataframe tbody tr th:only-of-type {\n",
       "        vertical-align: middle;\n",
       "    }\n",
       "\n",
       "    .dataframe tbody tr th {\n",
       "        vertical-align: top;\n",
       "    }\n",
       "\n",
       "    .dataframe thead th {\n",
       "        text-align: right;\n",
       "    }\n",
       "</style>\n",
       "<table border=\"1\" class=\"dataframe\">\n",
       "  <thead>\n",
       "    <tr style=\"text-align: right;\">\n",
       "      <th></th>\n",
       "      <th>1</th>\n",
       "      <th>2</th>\n",
       "      <th>3</th>\n",
       "      <th>4</th>\n",
       "      <th>5</th>\n",
       "      <th>6</th>\n",
       "      <th>7</th>\n",
       "      <th>8</th>\n",
       "    </tr>\n",
       "  </thead>\n",
       "  <tbody>\n",
       "    <tr>\n",
       "      <th>A</th>\n",
       "      <td>1</td>\n",
       "      <td>0</td>\n",
       "      <td>0</td>\n",
       "      <td>0</td>\n",
       "      <td>0</td>\n",
       "      <td>0</td>\n",
       "      <td>0</td>\n",
       "      <td>0</td>\n",
       "    </tr>\n",
       "    <tr>\n",
       "      <th>B</th>\n",
       "      <td>0</td>\n",
       "      <td>0</td>\n",
       "      <td>0</td>\n",
       "      <td>0</td>\n",
       "      <td>0</td>\n",
       "      <td>0</td>\n",
       "      <td>0</td>\n",
       "      <td>0</td>\n",
       "    </tr>\n",
       "    <tr>\n",
       "      <th>C</th>\n",
       "      <td>0</td>\n",
       "      <td>0</td>\n",
       "      <td>0</td>\n",
       "      <td>0</td>\n",
       "      <td>0</td>\n",
       "      <td>0</td>\n",
       "      <td>0</td>\n",
       "      <td>0</td>\n",
       "    </tr>\n",
       "    <tr>\n",
       "      <th>D</th>\n",
       "      <td>0</td>\n",
       "      <td>0</td>\n",
       "      <td>0</td>\n",
       "      <td>0</td>\n",
       "      <td>0</td>\n",
       "      <td>0</td>\n",
       "      <td>0</td>\n",
       "      <td>0</td>\n",
       "    </tr>\n",
       "    <tr>\n",
       "      <th>E</th>\n",
       "      <td>0</td>\n",
       "      <td>0</td>\n",
       "      <td>0</td>\n",
       "      <td>0</td>\n",
       "      <td>0</td>\n",
       "      <td>0</td>\n",
       "      <td>0</td>\n",
       "      <td>0</td>\n",
       "    </tr>\n",
       "    <tr>\n",
       "      <th>F</th>\n",
       "      <td>0</td>\n",
       "      <td>0</td>\n",
       "      <td>0</td>\n",
       "      <td>0</td>\n",
       "      <td>0</td>\n",
       "      <td>0</td>\n",
       "      <td>0</td>\n",
       "      <td>0</td>\n",
       "    </tr>\n",
       "    <tr>\n",
       "      <th>G</th>\n",
       "      <td>0</td>\n",
       "      <td>0</td>\n",
       "      <td>0</td>\n",
       "      <td>0</td>\n",
       "      <td>0</td>\n",
       "      <td>0</td>\n",
       "      <td>0</td>\n",
       "      <td>0</td>\n",
       "    </tr>\n",
       "    <tr>\n",
       "      <th>H</th>\n",
       "      <td>0</td>\n",
       "      <td>0</td>\n",
       "      <td>0</td>\n",
       "      <td>0</td>\n",
       "      <td>0</td>\n",
       "      <td>0</td>\n",
       "      <td>0</td>\n",
       "      <td>1</td>\n",
       "    </tr>\n",
       "  </tbody>\n",
       "</table>\n",
       "</div>"
      ],
      "text/plain": [
       "   1  2  3  4  5  6  7  8\n",
       "A  1  0  0  0  0  0  0  0\n",
       "B  0  0  0  0  0  0  0  0\n",
       "C  0  0  0  0  0  0  0  0\n",
       "D  0  0  0  0  0  0  0  0\n",
       "E  0  0  0  0  0  0  0  0\n",
       "F  0  0  0  0  0  0  0  0\n",
       "G  0  0  0  0  0  0  0  0\n",
       "H  0  0  0  0  0  0  0  1"
      ]
     },
     "execution_count": 10,
     "metadata": {},
     "output_type": "execute_result"
    }
   ],
   "source": [
    "chessboard"
   ]
  },
  {
   "cell_type": "code",
   "execution_count": 11,
   "id": "6a103110-7c71-48f4-9c15-e4c24f799bab",
   "metadata": {},
   "outputs": [],
   "source": [
    "for col in range(1,9):\n",
    "    for row, letter in enumerate(A_H):\n",
    "        r = row + 1\n",
    "        chessboard.at[letter, col] = col/r"
   ]
  },
  {
   "cell_type": "code",
   "execution_count": 12,
   "id": "5f335910-b938-44d7-961f-6b979dd07d07",
   "metadata": {},
   "outputs": [
    {
     "name": "stderr",
     "output_type": "stream",
     "text": [
      "<ipython-input-12-2c40fefc4ff9>:4: FutureWarning: Using a non-tuple sequence for multidimensional indexing is deprecated; use `arr[tuple(seq)]` instead of `arr[seq]`. In the future this will be interpreted as an array index, `arr[np.array(seq)]`, which will result either in an error or a different result.\n",
      "  chessboard.values[[_0_7] * 2]\n"
     ]
    },
    {
     "data": {
      "text/plain": [
       "array([1, 1, 1, 1, 1, 1, 1, 1])"
      ]
     },
     "execution_count": 12,
     "metadata": {},
     "output_type": "execute_result"
    }
   ],
   "source": [
    "# shape returns (rows, cols)\n",
    "chess_rows = chessboard.shape[0]\n",
    "_0_7 = np.arange(8)\n",
    "chessboard.values[[_0_7] * 2]"
   ]
  },
  {
   "cell_type": "code",
   "execution_count": 13,
   "id": "3b8571dd-a277-47e9-b208-0491000f1057",
   "metadata": {},
   "outputs": [
    {
     "data": {
      "text/plain": [
       "A    1\n",
       "B    0\n",
       "C    0\n",
       "D    0\n",
       "E    0\n",
       "F    0\n",
       "G    0\n",
       "H    0\n",
       "Name: 1, dtype: int64"
      ]
     },
     "execution_count": 13,
     "metadata": {},
     "output_type": "execute_result"
    }
   ],
   "source": [
    "chessboard[1]"
   ]
  },
  {
   "cell_type": "code",
   "execution_count": 14,
   "id": "4af05837-6190-43f7-aad9-2acc12a932fb",
   "metadata": {},
   "outputs": [
    {
     "data": {
      "text/plain": [
       "[0, 1, 2, 3, 4, 5, 6, 7]"
      ]
     },
     "execution_count": 14,
     "metadata": {},
     "output_type": "execute_result"
    }
   ],
   "source": [
    "list(_0_7)"
   ]
  },
  {
   "cell_type": "code",
   "execution_count": 15,
   "id": "b3f62cf8-5eb0-4c7b-8a94-f108f3c2aebc",
   "metadata": {},
   "outputs": [],
   "source": [
    "np.fill_diagonal(chessboard.values, 1)"
   ]
  },
  {
   "cell_type": "code",
   "execution_count": 16,
   "id": "5948f344-4197-4d47-a733-957f01855e39",
   "metadata": {},
   "outputs": [
    {
     "data": {
      "text/html": [
       "<div>\n",
       "<style scoped>\n",
       "    .dataframe tbody tr th:only-of-type {\n",
       "        vertical-align: middle;\n",
       "    }\n",
       "\n",
       "    .dataframe tbody tr th {\n",
       "        vertical-align: top;\n",
       "    }\n",
       "\n",
       "    .dataframe thead th {\n",
       "        text-align: right;\n",
       "    }\n",
       "</style>\n",
       "<table border=\"1\" class=\"dataframe\">\n",
       "  <thead>\n",
       "    <tr style=\"text-align: right;\">\n",
       "      <th></th>\n",
       "      <th>1</th>\n",
       "      <th>2</th>\n",
       "      <th>3</th>\n",
       "      <th>4</th>\n",
       "      <th>5</th>\n",
       "      <th>6</th>\n",
       "      <th>7</th>\n",
       "      <th>8</th>\n",
       "    </tr>\n",
       "  </thead>\n",
       "  <tbody>\n",
       "    <tr>\n",
       "      <th>A</th>\n",
       "      <td>1</td>\n",
       "      <td>2</td>\n",
       "      <td>3</td>\n",
       "      <td>4</td>\n",
       "      <td>5</td>\n",
       "      <td>6</td>\n",
       "      <td>7</td>\n",
       "      <td>8</td>\n",
       "    </tr>\n",
       "    <tr>\n",
       "      <th>B</th>\n",
       "      <td>0</td>\n",
       "      <td>1</td>\n",
       "      <td>1</td>\n",
       "      <td>2</td>\n",
       "      <td>2</td>\n",
       "      <td>3</td>\n",
       "      <td>3</td>\n",
       "      <td>4</td>\n",
       "    </tr>\n",
       "    <tr>\n",
       "      <th>C</th>\n",
       "      <td>0</td>\n",
       "      <td>0</td>\n",
       "      <td>1</td>\n",
       "      <td>1</td>\n",
       "      <td>1</td>\n",
       "      <td>2</td>\n",
       "      <td>2</td>\n",
       "      <td>2</td>\n",
       "    </tr>\n",
       "    <tr>\n",
       "      <th>D</th>\n",
       "      <td>0</td>\n",
       "      <td>0</td>\n",
       "      <td>0</td>\n",
       "      <td>1</td>\n",
       "      <td>1</td>\n",
       "      <td>1</td>\n",
       "      <td>1</td>\n",
       "      <td>2</td>\n",
       "    </tr>\n",
       "    <tr>\n",
       "      <th>E</th>\n",
       "      <td>0</td>\n",
       "      <td>0</td>\n",
       "      <td>0</td>\n",
       "      <td>0</td>\n",
       "      <td>1</td>\n",
       "      <td>1</td>\n",
       "      <td>1</td>\n",
       "      <td>1</td>\n",
       "    </tr>\n",
       "    <tr>\n",
       "      <th>F</th>\n",
       "      <td>0</td>\n",
       "      <td>0</td>\n",
       "      <td>0</td>\n",
       "      <td>0</td>\n",
       "      <td>0</td>\n",
       "      <td>1</td>\n",
       "      <td>1</td>\n",
       "      <td>1</td>\n",
       "    </tr>\n",
       "    <tr>\n",
       "      <th>G</th>\n",
       "      <td>0</td>\n",
       "      <td>0</td>\n",
       "      <td>0</td>\n",
       "      <td>0</td>\n",
       "      <td>0</td>\n",
       "      <td>0</td>\n",
       "      <td>1</td>\n",
       "      <td>1</td>\n",
       "    </tr>\n",
       "    <tr>\n",
       "      <th>H</th>\n",
       "      <td>0</td>\n",
       "      <td>0</td>\n",
       "      <td>0</td>\n",
       "      <td>0</td>\n",
       "      <td>0</td>\n",
       "      <td>0</td>\n",
       "      <td>0</td>\n",
       "      <td>1</td>\n",
       "    </tr>\n",
       "  </tbody>\n",
       "</table>\n",
       "</div>"
      ],
      "text/plain": [
       "   1  2  3  4  5  6  7  8\n",
       "A  1  2  3  4  5  6  7  8\n",
       "B  0  1  1  2  2  3  3  4\n",
       "C  0  0  1  1  1  2  2  2\n",
       "D  0  0  0  1  1  1  1  2\n",
       "E  0  0  0  0  1  1  1  1\n",
       "F  0  0  0  0  0  1  1  1\n",
       "G  0  0  0  0  0  0  1  1\n",
       "H  0  0  0  0  0  0  0  1"
      ]
     },
     "execution_count": 16,
     "metadata": {},
     "output_type": "execute_result"
    }
   ],
   "source": [
    "chessboard"
   ]
  },
  {
   "cell_type": "code",
   "execution_count": 17,
   "id": "91497c97-39c8-4aeb-a9f4-439db009ec9c",
   "metadata": {},
   "outputs": [
    {
     "data": {
      "text/html": [
       "<div>\n",
       "<style scoped>\n",
       "    .dataframe tbody tr th:only-of-type {\n",
       "        vertical-align: middle;\n",
       "    }\n",
       "\n",
       "    .dataframe tbody tr th {\n",
       "        vertical-align: top;\n",
       "    }\n",
       "\n",
       "    .dataframe thead th {\n",
       "        text-align: right;\n",
       "    }\n",
       "</style>\n",
       "<table border=\"1\" class=\"dataframe\">\n",
       "  <thead>\n",
       "    <tr style=\"text-align: right;\">\n",
       "      <th></th>\n",
       "      <th>1</th>\n",
       "      <th>2</th>\n",
       "      <th>3</th>\n",
       "      <th>4</th>\n",
       "      <th>5</th>\n",
       "      <th>6</th>\n",
       "      <th>7</th>\n",
       "      <th>8</th>\n",
       "    </tr>\n",
       "  </thead>\n",
       "  <tbody>\n",
       "    <tr>\n",
       "      <th>A</th>\n",
       "      <td>1</td>\n",
       "      <td>2</td>\n",
       "      <td>3</td>\n",
       "      <td>4</td>\n",
       "      <td>5</td>\n",
       "      <td>6</td>\n",
       "      <td>7</td>\n",
       "      <td>8</td>\n",
       "    </tr>\n",
       "    <tr>\n",
       "      <th>B</th>\n",
       "      <td>0</td>\n",
       "      <td>1</td>\n",
       "      <td>1</td>\n",
       "      <td>2</td>\n",
       "      <td>2</td>\n",
       "      <td>3</td>\n",
       "      <td>3</td>\n",
       "      <td>4</td>\n",
       "    </tr>\n",
       "    <tr>\n",
       "      <th>C</th>\n",
       "      <td>0</td>\n",
       "      <td>0</td>\n",
       "      <td>1</td>\n",
       "      <td>1</td>\n",
       "      <td>1</td>\n",
       "      <td>2</td>\n",
       "      <td>2</td>\n",
       "      <td>2</td>\n",
       "    </tr>\n",
       "    <tr>\n",
       "      <th>D</th>\n",
       "      <td>0</td>\n",
       "      <td>0</td>\n",
       "      <td>0</td>\n",
       "      <td>1</td>\n",
       "      <td>1</td>\n",
       "      <td>1</td>\n",
       "      <td>1</td>\n",
       "      <td>2</td>\n",
       "    </tr>\n",
       "    <tr>\n",
       "      <th>E</th>\n",
       "      <td>0</td>\n",
       "      <td>0</td>\n",
       "      <td>0</td>\n",
       "      <td>0</td>\n",
       "      <td>1</td>\n",
       "      <td>1</td>\n",
       "      <td>1</td>\n",
       "      <td>1</td>\n",
       "    </tr>\n",
       "    <tr>\n",
       "      <th>F</th>\n",
       "      <td>0</td>\n",
       "      <td>0</td>\n",
       "      <td>0</td>\n",
       "      <td>0</td>\n",
       "      <td>0</td>\n",
       "      <td>1</td>\n",
       "      <td>1</td>\n",
       "      <td>1</td>\n",
       "    </tr>\n",
       "    <tr>\n",
       "      <th>G</th>\n",
       "      <td>0</td>\n",
       "      <td>0</td>\n",
       "      <td>0</td>\n",
       "      <td>0</td>\n",
       "      <td>0</td>\n",
       "      <td>0</td>\n",
       "      <td>1</td>\n",
       "      <td>1</td>\n",
       "    </tr>\n",
       "    <tr>\n",
       "      <th>H</th>\n",
       "      <td>0</td>\n",
       "      <td>0</td>\n",
       "      <td>0</td>\n",
       "      <td>0</td>\n",
       "      <td>0</td>\n",
       "      <td>0</td>\n",
       "      <td>0</td>\n",
       "      <td>1</td>\n",
       "    </tr>\n",
       "  </tbody>\n",
       "</table>\n",
       "</div>"
      ],
      "text/plain": [
       "   1  2  3  4  5  6  7  8\n",
       "A  1  2  3  4  5  6  7  8\n",
       "B  0  1  1  2  2  3  3  4\n",
       "C  0  0  1  1  1  2  2  2\n",
       "D  0  0  0  1  1  1  1  2\n",
       "E  0  0  0  0  1  1  1  1\n",
       "F  0  0  0  0  0  1  1  1\n",
       "G  0  0  0  0  0  0  1  1\n",
       "H  0  0  0  0  0  0  0  1"
      ]
     },
     "execution_count": 17,
     "metadata": {},
     "output_type": "execute_result"
    }
   ],
   "source": [
    "chessboard"
   ]
  },
  {
   "cell_type": "code",
   "execution_count": 18,
   "id": "acca0150-992e-4696-9f9f-37aa9ea55494",
   "metadata": {},
   "outputs": [
    {
     "data": {
      "text/plain": [
       "array([1, 2, 3, 4, 5, 6, 7, 8])"
      ]
     },
     "execution_count": 18,
     "metadata": {},
     "output_type": "execute_result"
    }
   ],
   "source": [
    "chessboard.values[0]"
   ]
  },
  {
   "cell_type": "markdown",
   "id": "4965b0dc-0e2f-4e56-979e-90ee42502fa0",
   "metadata": {},
   "source": [
    "Choose the maximal number of integers among 1..50 that can be selected if we are not allowed to select n and 2n at at same time."
   ]
  },
  {
   "cell_type": "code",
   "execution_count": 19,
   "id": "4966e077-c896-4247-9e83-81f93448f2ac",
   "metadata": {},
   "outputs": [
    {
     "name": "stdout",
     "output_type": "stream",
     "text": [
      "33\n"
     ]
    }
   ],
   "source": [
    "_max = 50\n",
    "_min = 1\n",
    "_1_50 = [x for x in range(_min, _max + 1)]\n",
    "poss = []\n",
    "not_poss = []\n",
    "i = 0\n",
    "while len(_1_50) != 0:\n",
    "    n = _1_50[i]\n",
    "    _2n = 2 * n\n",
    "    if _2n in _1_50:\n",
    "        _2n_ind = _1_50.index(_2n)\n",
    "        _1_50.pop(_2n_ind)\n",
    "        not_poss.append(_2n)\n",
    "    else:\n",
    "        n_ind = _1_50.index(n)\n",
    "        _1_50.pop(n_ind)\n",
    "        poss.append(n)\n",
    "    \n",
    "print(len(poss))"
   ]
  },
  {
   "cell_type": "code",
   "execution_count": 39,
   "id": "7d2ba164-7da4-462e-8405-b264433e63d4",
   "metadata": {},
   "outputs": [
    {
     "data": {
      "text/plain": [
       "[1, 192, 384, 768, 1536]"
      ]
     },
     "execution_count": 39,
     "metadata": {},
     "output_type": "execute_result"
    }
   ],
   "source": [
    "# chains that can't happen\n",
    "def odd(n):\n",
    "    nums = []\n",
    "    for i in range(1, 2*n, 2):\n",
    "        nums.append(i)\n",
    "    return nums\n",
    "\n",
    "odds = odd(25) #1..49\n",
    "\n",
    "chains = {}\n",
    "for i in odds:\n",
    "    chains[i]=[]\n",
    "    for x in range(5)\n",
    "\n",
    "    \n",
    "_3_chain"
   ]
  },
  {
   "cell_type": "code",
   "execution_count": 40,
   "id": "d2550606-12ce-41c1-9ce5-a25308a9fbe1",
   "metadata": {},
   "outputs": [
    {
     "data": {
      "text/plain": [
       "25"
      ]
     },
     "execution_count": 40,
     "metadata": {},
     "output_type": "execute_result"
    }
   ],
   "source": [
    "len(odds)"
   ]
  },
  {
   "cell_type": "code",
   "execution_count": null,
   "id": "b5f6daec-2015-4d73-a41a-16722ebce241",
   "metadata": {},
   "outputs": [],
   "source": []
  },
  {
   "cell_type": "code",
   "execution_count": null,
   "id": "5fda4d3e-67c6-4a93-abc2-2ba149a7ea7f",
   "metadata": {},
   "outputs": [],
   "source": []
  }
 ],
 "metadata": {
  "kernelspec": {
   "display_name": "Python 3",
   "language": "python",
   "name": "python3"
  },
  "language_info": {
   "codemirror_mode": {
    "name": "ipython",
    "version": 3
   },
   "file_extension": ".py",
   "mimetype": "text/x-python",
   "name": "python",
   "nbconvert_exporter": "python",
   "pygments_lexer": "ipython3",
   "version": "3.8.8"
  }
 },
 "nbformat": 4,
 "nbformat_minor": 5
}
