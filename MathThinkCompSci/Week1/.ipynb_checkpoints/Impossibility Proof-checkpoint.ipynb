{
 "cells": [
  {
   "cell_type": "markdown",
   "id": "01decab1",
   "metadata": {},
   "source": [
    "<h1>Impossibility Proof</h1>"
   ]
  },
  {
   "cell_type": "code",
   "execution_count": 1,
   "id": "8542da12",
   "metadata": {},
   "outputs": [],
   "source": [
    "import pandas as pd\n",
    "import numpy as np"
   ]
  },
  {
   "cell_type": "code",
   "execution_count": 2,
   "id": "6aa38b13",
   "metadata": {},
   "outputs": [
    {
     "name": "stdout",
     "output_type": "stream",
     "text": [
      "Full Board:\n",
      "Can tile board\n",
      "\n",
      "\n",
      "One Corner Cut:\n",
      "Can't tile board\n",
      "\n",
      "\n",
      "Two Corner Cut:\n",
      "Can tile board\n"
     ]
    }
   ],
   "source": [
    "def simple_proof(area_of_board, area_of_tile):\n",
    "    # This proof is incorrect some of the times\n",
    "    # detailed below\n",
    "    if area_of_board % area_of_tile == 0:\n",
    "        print('Can tile board')\n",
    "    else:\n",
    "        print(\"Can't tile board\")\n",
    "        \n",
    "print(\"Full Board:\")   \n",
    "simple_proof(area_of_board=8*8, area_of_tile=1*2)\n",
    "print('\\n')\n",
    "print(\"One Corner Cut:\")\n",
    "simple_proof(area_of_board=((8*8)-1), area_of_tile=1*2)\n",
    "print('\\n')\n",
    "print(\"Two Corner Cut:\")\n",
    "simple_proof(area_of_board=((8*8)-2), area_of_tile=1*2)"
   ]
  },
  {
   "cell_type": "markdown",
   "id": "e8f95d65",
   "metadata": {},
   "source": [
    "<h1>Theorem</h1>\n",
    "<p>An 8x8 chess board without two opposite corners cannot be tiled by 1x2 dominos</p>\n",
    "<h4>Proof</h4>\n",
    "<ul>\n",
    "    <li>black & white cells 4 black / 4 white</li>\n",
    "    <li>opposite corners are black</li>\n",
    "     <li>30 black 32 white</li>\n",
    "    <li>domino: two different colors</li>\n",
    "    <li>two white remain</li>\n",
    "    <li>quod erat demonstrandum</li>\n",
    "    <ul>\n",
    "        <li>Latin: that's what we wanted to prove</li>\n",
    "    </ul>\n",
    "</ul>"
   ]
  },
  {
   "cell_type": "code",
   "execution_count": 3,
   "id": "bf3f1f7f",
   "metadata": {},
   "outputs": [
    {
     "name": "stdout",
     "output_type": "stream",
     "text": [
      "Inital Condition:\n",
      "Full init_board\n",
      "Black tiles:\n",
      "32\n",
      "White tiles:\n",
      "32\n"
     ]
    }
   ],
   "source": [
    "black=1\n",
    "white=2\n",
    "removed=9\n",
    "\n",
    "square = [black, white]\n",
    "inv_square = square[::-1]\n",
    "\n",
    "init_board = []\n",
    "for x in range(8):\n",
    "    if x%2 == 0:\n",
    "        row = square * 4\n",
    "    else:\n",
    "        row = inv_square*4\n",
    "    init_board.append(row)\n",
    "\n",
    "\n",
    "init_board = pd.DataFrame(init_board)\n",
    "domino = pd.Series(square)\n",
    "\n",
    "print('Inital Condition:')\n",
    "print('Full init_board')\n",
    "print('Black tiles:')\n",
    "print(init_board.where(init_board==black).count().sum())\n",
    "print('White tiles:')\n",
    "print(init_board.where(init_board==white).count().sum())\n",
    "#init_board"
   ]
  },
  {
   "cell_type": "code",
   "execution_count": 4,
   "id": "1cf4102f",
   "metadata": {},
   "outputs": [],
   "source": [
    "def remove_two_white_tiles(inp_board):\n",
    "    board = inp_board.copy()\n",
    "    while board.where(board == removed).count().sum() < 2:\n",
    "        random_loc = np.random.randint(low=0, high=7, size=2)\n",
    "        test_loc = board.at[random_loc[0], random_loc[1]]\n",
    "        if test_loc == white:\n",
    "            board.at[random_loc[0], random_loc[1]]=removed\n",
    "    return board\n",
    "        \n",
    "removed_white_tiles = remove_two_white_tiles(init_board)\n",
    "#removed_white_tiles"
   ]
  },
  {
   "cell_type": "code",
   "execution_count": 5,
   "id": "b5eb5f11",
   "metadata": {},
   "outputs": [],
   "source": [
    "def remove_one_corner(inp_board):\n",
    "    board = inp_board.copy()\n",
    "    board.at[0,0]=removed\n",
    "    return board\n",
    "        \n",
    "removed_one_corner = remove_one_corner(init_board)\n",
    "# removed_one_corner"
   ]
  },
  {
   "cell_type": "code",
   "execution_count": 6,
   "id": "7c9c0988",
   "metadata": {},
   "outputs": [],
   "source": [
    "def remove_top_corners(inp_board):\n",
    "    board = inp_board.copy()\n",
    "    board.at[0, 0]=removed\n",
    "    board.at[0, 7]=removed\n",
    "    return board\n",
    "        \n",
    "removed_top_corners = remove_top_corners(init_board)\n",
    "# removed_top_corners"
   ]
  },
  {
   "cell_type": "code",
   "execution_count": 7,
   "id": "952069d8",
   "metadata": {},
   "outputs": [],
   "source": [
    "def remove_opp_corners(inp_board):\n",
    "    board = inp_board.copy()\n",
    "    board.at[0, 0]=removed\n",
    "    board.at[7, 7]=removed\n",
    "    return board\n",
    "        \n",
    "removed_opp_corners = remove_opp_corners(init_board)\n",
    "# removed_opp_corners"
   ]
  },
  {
   "cell_type": "code",
   "execution_count": 8,
   "id": "c7d2ce58",
   "metadata": {},
   "outputs": [
    {
     "name": "stdout",
     "output_type": "stream",
     "text": [
      "Initial Board:\n",
      "Can tile board\n",
      "\n",
      "\n",
      "One Corner Cut:\n",
      "Can't tile board\n",
      "\n",
      "\n",
      "Top Two Corners Cut:\n",
      "Can tile board\n",
      "\n",
      "\n",
      "Opp Corners Cut:\n",
      "Can't tile board\n",
      "\n",
      "\n",
      "Removed Two Random White Tiles Board:\n",
      "Can't tile board\n"
     ]
    }
   ],
   "source": [
    "def proof(board):\n",
    "    black_tiles = board.where(board==black).count().sum()\n",
    "    white_tiles = board.where(board==white).count().sum()\n",
    "    if black_tiles == white_tiles:\n",
    "        print(\"Can tile board\")\n",
    "    else:\n",
    "        print(\"Can't tile board\")\n",
    "\n",
    "\n",
    "print(\"Initial Board:\")   \n",
    "proof(init_board)\n",
    "print('\\n')\n",
    "print(\"One Corner Cut:\")\n",
    "proof(removed_one_corner)\n",
    "print('\\n')\n",
    "print(\"Top Two Corners Cut:\")\n",
    "proof(removed_top_corners)\n",
    "print('\\n')\n",
    "print(\"Opp Corners Cut:\")\n",
    "proof(removed_opp_corners)\n",
    "print('\\n')\n",
    "print(\"Removed Two Random White Tiles Board:\")   \n",
    "proof(removed_white_tiles)"
   ]
  },
  {
   "cell_type": "code",
   "execution_count": 9,
   "id": "82fc3358",
   "metadata": {},
   "outputs": [],
   "source": [
    "# Quiz:\n",
    "tile = 8\n",
    "q12 = pd.DataFrame([\n",
    "    [black, white, black, removed, removed, removed, removed],\n",
    "    [white, black, white, removed, removed, removed, removed],\n",
    "    [black, white, black, removed, removed, removed, removed],\n",
    "    [removed, removed, white, removed, removed, removed, removed],\n",
    "    [removed, removed, black, removed, removed, removed, removed],\n",
    "    [removed, removed, white, removed, white, black, white],\n",
    "    [removed, removed, black, removed, black, white, black],\n",
    "    [removed, removed, 'a', black, white, black, white]\n",
    "])\n",
    "\n",
    "    \n",
    "def place_tile(inp_board, tile_placement):\n",
    "    board = inp_board.copy()\n",
    "    board.at[7,2] = tile\n",
    "    if tile_placement == 'horizontal':\n",
    "        board.at[7,3] = tile\n",
    "    else:  # 'vertical'\n",
    "        board.at[6,2] = tile\n",
    "    return board"
   ]
  },
  {
   "cell_type": "markdown",
   "id": "d06bbb7a",
   "metadata": {},
   "source": [
    "<p>1) Question 1\n",
    "Consider the following shape that we want to tile by 1×2 tiles. (This means that the tiles should be inside the green zone and cover the entire green zone without overlaps)</p>\n",
    "<p>Is it possible if we cover the cell \"a\" by a <b>horizontal tile</b>?</p>"
   ]
  },
  {
   "cell_type": "code",
   "execution_count": 10,
   "id": "6546cff3",
   "metadata": {},
   "outputs": [
    {
     "name": "stdout",
     "output_type": "stream",
     "text": [
      "Can tile board\n"
     ]
    }
   ],
   "source": [
    "q1 = place_tile(q12, 'horizontal')\n",
    "proof(q1)"
   ]
  },
  {
   "cell_type": "markdown",
   "id": "ab4cb533",
   "metadata": {},
   "source": [
    "<b>This is not correct however</b>\n",
    "<p>There are two boards split by column 3</p>"
   ]
  },
  {
   "cell_type": "code",
   "execution_count": 11,
   "id": "614afafb",
   "metadata": {},
   "outputs": [
    {
     "data": {
      "text/html": [
       "<div>\n",
       "<style scoped>\n",
       "    .dataframe tbody tr th:only-of-type {\n",
       "        vertical-align: middle;\n",
       "    }\n",
       "\n",
       "    .dataframe tbody tr th {\n",
       "        vertical-align: top;\n",
       "    }\n",
       "\n",
       "    .dataframe thead th {\n",
       "        text-align: right;\n",
       "    }\n",
       "</style>\n",
       "<table border=\"1\" class=\"dataframe\">\n",
       "  <thead>\n",
       "    <tr style=\"text-align: right;\">\n",
       "      <th></th>\n",
       "      <th>0</th>\n",
       "      <th>1</th>\n",
       "      <th>2</th>\n",
       "      <th>3</th>\n",
       "      <th>4</th>\n",
       "      <th>5</th>\n",
       "      <th>6</th>\n",
       "    </tr>\n",
       "  </thead>\n",
       "  <tbody>\n",
       "    <tr>\n",
       "      <th>0</th>\n",
       "      <td>1</td>\n",
       "      <td>2</td>\n",
       "      <td>1</td>\n",
       "      <td>9</td>\n",
       "      <td>9</td>\n",
       "      <td>9</td>\n",
       "      <td>9</td>\n",
       "    </tr>\n",
       "    <tr>\n",
       "      <th>1</th>\n",
       "      <td>2</td>\n",
       "      <td>1</td>\n",
       "      <td>2</td>\n",
       "      <td>9</td>\n",
       "      <td>9</td>\n",
       "      <td>9</td>\n",
       "      <td>9</td>\n",
       "    </tr>\n",
       "    <tr>\n",
       "      <th>2</th>\n",
       "      <td>1</td>\n",
       "      <td>2</td>\n",
       "      <td>1</td>\n",
       "      <td>9</td>\n",
       "      <td>9</td>\n",
       "      <td>9</td>\n",
       "      <td>9</td>\n",
       "    </tr>\n",
       "    <tr>\n",
       "      <th>3</th>\n",
       "      <td>9</td>\n",
       "      <td>9</td>\n",
       "      <td>2</td>\n",
       "      <td>9</td>\n",
       "      <td>9</td>\n",
       "      <td>9</td>\n",
       "      <td>9</td>\n",
       "    </tr>\n",
       "    <tr>\n",
       "      <th>4</th>\n",
       "      <td>9</td>\n",
       "      <td>9</td>\n",
       "      <td>1</td>\n",
       "      <td>9</td>\n",
       "      <td>9</td>\n",
       "      <td>9</td>\n",
       "      <td>9</td>\n",
       "    </tr>\n",
       "    <tr>\n",
       "      <th>5</th>\n",
       "      <td>9</td>\n",
       "      <td>9</td>\n",
       "      <td>2</td>\n",
       "      <td>9</td>\n",
       "      <td>2</td>\n",
       "      <td>1</td>\n",
       "      <td>2</td>\n",
       "    </tr>\n",
       "    <tr>\n",
       "      <th>6</th>\n",
       "      <td>9</td>\n",
       "      <td>9</td>\n",
       "      <td>1</td>\n",
       "      <td>9</td>\n",
       "      <td>1</td>\n",
       "      <td>2</td>\n",
       "      <td>1</td>\n",
       "    </tr>\n",
       "    <tr>\n",
       "      <th>7</th>\n",
       "      <td>9</td>\n",
       "      <td>9</td>\n",
       "      <td>8</td>\n",
       "      <td>8</td>\n",
       "      <td>2</td>\n",
       "      <td>1</td>\n",
       "      <td>2</td>\n",
       "    </tr>\n",
       "  </tbody>\n",
       "</table>\n",
       "</div>"
      ],
      "text/plain": [
       "   0  1  2  3  4  5  6\n",
       "0  1  2  1  9  9  9  9\n",
       "1  2  1  2  9  9  9  9\n",
       "2  1  2  1  9  9  9  9\n",
       "3  9  9  2  9  9  9  9\n",
       "4  9  9  1  9  9  9  9\n",
       "5  9  9  2  9  2  1  2\n",
       "6  9  9  1  9  1  2  1\n",
       "7  9  9  8  8  2  1  2"
      ]
     },
     "execution_count": 11,
     "metadata": {},
     "output_type": "execute_result"
    }
   ],
   "source": [
    "q1"
   ]
  },
  {
   "cell_type": "markdown",
   "id": "d18eb984",
   "metadata": {},
   "source": [
    "<p>split by column 3 where there are no black (#1) or white (#2) tiles</p>"
   ]
  },
  {
   "cell_type": "code",
   "execution_count": 12,
   "id": "ac8ba5b7",
   "metadata": {},
   "outputs": [
    {
     "data": {
      "text/plain": [
       "0    9\n",
       "1    9\n",
       "2    9\n",
       "3    9\n",
       "4    9\n",
       "5    9\n",
       "6    9\n",
       "7    8\n",
       "Name: 3, dtype: int64"
      ]
     },
     "execution_count": 12,
     "metadata": {},
     "output_type": "execute_result"
    }
   ],
   "source": [
    "q1[3]"
   ]
  },
  {
   "cell_type": "code",
   "execution_count": 13,
   "id": "ff8aa653",
   "metadata": {},
   "outputs": [
    {
     "data": {
      "text/html": [
       "<div>\n",
       "<style scoped>\n",
       "    .dataframe tbody tr th:only-of-type {\n",
       "        vertical-align: middle;\n",
       "    }\n",
       "\n",
       "    .dataframe tbody tr th {\n",
       "        vertical-align: top;\n",
       "    }\n",
       "\n",
       "    .dataframe thead th {\n",
       "        text-align: right;\n",
       "    }\n",
       "</style>\n",
       "<table border=\"1\" class=\"dataframe\">\n",
       "  <thead>\n",
       "    <tr style=\"text-align: right;\">\n",
       "      <th></th>\n",
       "      <th>0</th>\n",
       "      <th>1</th>\n",
       "      <th>2</th>\n",
       "    </tr>\n",
       "  </thead>\n",
       "  <tbody>\n",
       "    <tr>\n",
       "      <th>0</th>\n",
       "      <td>1</td>\n",
       "      <td>2</td>\n",
       "      <td>1</td>\n",
       "    </tr>\n",
       "    <tr>\n",
       "      <th>1</th>\n",
       "      <td>2</td>\n",
       "      <td>1</td>\n",
       "      <td>2</td>\n",
       "    </tr>\n",
       "    <tr>\n",
       "      <th>2</th>\n",
       "      <td>1</td>\n",
       "      <td>2</td>\n",
       "      <td>1</td>\n",
       "    </tr>\n",
       "    <tr>\n",
       "      <th>3</th>\n",
       "      <td>9</td>\n",
       "      <td>9</td>\n",
       "      <td>2</td>\n",
       "    </tr>\n",
       "    <tr>\n",
       "      <th>4</th>\n",
       "      <td>9</td>\n",
       "      <td>9</td>\n",
       "      <td>1</td>\n",
       "    </tr>\n",
       "    <tr>\n",
       "      <th>5</th>\n",
       "      <td>9</td>\n",
       "      <td>9</td>\n",
       "      <td>2</td>\n",
       "    </tr>\n",
       "    <tr>\n",
       "      <th>6</th>\n",
       "      <td>9</td>\n",
       "      <td>9</td>\n",
       "      <td>1</td>\n",
       "    </tr>\n",
       "    <tr>\n",
       "      <th>7</th>\n",
       "      <td>9</td>\n",
       "      <td>9</td>\n",
       "      <td>8</td>\n",
       "    </tr>\n",
       "  </tbody>\n",
       "</table>\n",
       "</div>"
      ],
      "text/plain": [
       "   0  1  2\n",
       "0  1  2  1\n",
       "1  2  1  2\n",
       "2  1  2  1\n",
       "3  9  9  2\n",
       "4  9  9  1\n",
       "5  9  9  2\n",
       "6  9  9  1\n",
       "7  9  9  8"
      ]
     },
     "execution_count": 13,
     "metadata": {},
     "output_type": "execute_result"
    }
   ],
   "source": [
    "q1_b1 = q1.transpose()[:3].transpose()\n",
    "q1_b1"
   ]
  },
  {
   "cell_type": "code",
   "execution_count": 14,
   "id": "dbaa9e38",
   "metadata": {},
   "outputs": [
    {
     "data": {
      "text/html": [
       "<div>\n",
       "<style scoped>\n",
       "    .dataframe tbody tr th:only-of-type {\n",
       "        vertical-align: middle;\n",
       "    }\n",
       "\n",
       "    .dataframe tbody tr th {\n",
       "        vertical-align: top;\n",
       "    }\n",
       "\n",
       "    .dataframe thead th {\n",
       "        text-align: right;\n",
       "    }\n",
       "</style>\n",
       "<table border=\"1\" class=\"dataframe\">\n",
       "  <thead>\n",
       "    <tr style=\"text-align: right;\">\n",
       "      <th></th>\n",
       "      <th>4</th>\n",
       "      <th>5</th>\n",
       "      <th>6</th>\n",
       "    </tr>\n",
       "  </thead>\n",
       "  <tbody>\n",
       "    <tr>\n",
       "      <th>0</th>\n",
       "      <td>9</td>\n",
       "      <td>9</td>\n",
       "      <td>9</td>\n",
       "    </tr>\n",
       "    <tr>\n",
       "      <th>1</th>\n",
       "      <td>9</td>\n",
       "      <td>9</td>\n",
       "      <td>9</td>\n",
       "    </tr>\n",
       "    <tr>\n",
       "      <th>2</th>\n",
       "      <td>9</td>\n",
       "      <td>9</td>\n",
       "      <td>9</td>\n",
       "    </tr>\n",
       "    <tr>\n",
       "      <th>3</th>\n",
       "      <td>9</td>\n",
       "      <td>9</td>\n",
       "      <td>9</td>\n",
       "    </tr>\n",
       "    <tr>\n",
       "      <th>4</th>\n",
       "      <td>9</td>\n",
       "      <td>9</td>\n",
       "      <td>9</td>\n",
       "    </tr>\n",
       "    <tr>\n",
       "      <th>5</th>\n",
       "      <td>2</td>\n",
       "      <td>1</td>\n",
       "      <td>2</td>\n",
       "    </tr>\n",
       "    <tr>\n",
       "      <th>6</th>\n",
       "      <td>1</td>\n",
       "      <td>2</td>\n",
       "      <td>1</td>\n",
       "    </tr>\n",
       "    <tr>\n",
       "      <th>7</th>\n",
       "      <td>2</td>\n",
       "      <td>1</td>\n",
       "      <td>2</td>\n",
       "    </tr>\n",
       "  </tbody>\n",
       "</table>\n",
       "</div>"
      ],
      "text/plain": [
       "   4  5  6\n",
       "0  9  9  9\n",
       "1  9  9  9\n",
       "2  9  9  9\n",
       "3  9  9  9\n",
       "4  9  9  9\n",
       "5  2  1  2\n",
       "6  1  2  1\n",
       "7  2  1  2"
      ]
     },
     "execution_count": 14,
     "metadata": {},
     "output_type": "execute_result"
    }
   ],
   "source": [
    "q1_b2 = q1.transpose()[4:].transpose()\n",
    "q1_b2"
   ]
  },
  {
   "cell_type": "code",
   "execution_count": 15,
   "id": "2f31cb0f",
   "metadata": {},
   "outputs": [
    {
     "name": "stdout",
     "output_type": "stream",
     "text": [
      "Can't tile board\n",
      "Can't tile board\n"
     ]
    }
   ],
   "source": [
    "proof(q1_b1)\n",
    "proof(q1_b2)"
   ]
  },
  {
   "cell_type": "markdown",
   "id": "3dca220e",
   "metadata": {},
   "source": [
    "<h4>Q1 true answer</h4>\n",
    "<p>\"No\"</p>"
   ]
  },
  {
   "cell_type": "markdown",
   "id": "974bd5df",
   "metadata": {},
   "source": [
    "<p>2) Consider the following shape (the same as in the previous question) that we want to tile by 1×2 domino tiles. (This means that the tiles should be inside the green zone and cover the entire green zone without overlaps).</p>\n",
    "\n",
    "<p>Now we want to tile it by dominos covering \"a\" by <b>a vertical  tile</b>. Is it possible?</p>"
   ]
  },
  {
   "cell_type": "code",
   "execution_count": 16,
   "id": "82fcaa7c",
   "metadata": {},
   "outputs": [],
   "source": [
    "q2 = place_tile(q12, 'vertical')\n",
    "# q2"
   ]
  },
  {
   "cell_type": "markdown",
   "id": "74cadd9c",
   "metadata": {},
   "source": [
    "<p>This also creates two boards</p>"
   ]
  },
  {
   "cell_type": "code",
   "execution_count": 17,
   "id": "5b58cc96",
   "metadata": {},
   "outputs": [],
   "source": [
    "q2_b1 = q2.transpose()[:3].transpose()\n",
    "# q2_b1"
   ]
  },
  {
   "cell_type": "code",
   "execution_count": 18,
   "id": "0705884f",
   "metadata": {},
   "outputs": [],
   "source": [
    "q2_b2 = q2.transpose()[3:].transpose()\n",
    "# q2_b2"
   ]
  },
  {
   "cell_type": "code",
   "execution_count": 19,
   "id": "2c804e9b",
   "metadata": {},
   "outputs": [
    {
     "name": "stdout",
     "output_type": "stream",
     "text": [
      "Can tile board\n",
      "Can tile board\n"
     ]
    }
   ],
   "source": [
    "proof(q2_b1)\n",
    "proof(q2_b2)"
   ]
  },
  {
   "cell_type": "markdown",
   "id": "b44b8464",
   "metadata": {},
   "source": [
    "<h4>Q2 answer</h4>\n",
    "<p>\"Yes\"</p>"
   ]
  },
  {
   "cell_type": "markdown",
   "id": "b9a819d5",
   "metadata": {},
   "source": [
    "3) A cell is good if the board without this cell can be tiled by domino 1×2 tiles. What is the number of good cells? (Just write a number in the answer field)\n",
    "\n",
    "<p>In other words, you want to delete one cell in such a way that the rest can be tiled. How many options do you have? For example, if you delete the left upper corner, you can tile the rest using vertical tiles in the first column and horizontal tiles elsewhere. So the left upper corner is good. Some other cells (e.g., the other corners) are good, but not all. You need to count the good cells.)</p>"
   ]
  },
  {
   "cell_type": "code",
   "execution_count": 20,
   "id": "118e4906",
   "metadata": {},
   "outputs": [],
   "source": [
    "q3_board = []\n",
    "for x in range(5):\n",
    "    if x % 2 == 0:\n",
    "        row = [black, white, black, white, black]\n",
    "    else:\n",
    "        row = [white, black, white, black, white]\n",
    "    q3_board.append(row)\n",
    "\n",
    "\n",
    "q3_board = pd.DataFrame(q3_board)\n",
    "#q3_board"
   ]
  },
  {
   "cell_type": "code",
   "execution_count": 21,
   "id": "5eec84fd",
   "metadata": {},
   "outputs": [
    {
     "name": "stdout",
     "output_type": "stream",
     "text": [
      "Q3:\n",
      "Can't tile board\n"
     ]
    }
   ],
   "source": [
    "print(\"Q3:\")\n",
    "proof(q3_board)"
   ]
  },
  {
   "cell_type": "code",
   "execution_count": 22,
   "id": "7eb8d100",
   "metadata": {},
   "outputs": [
    {
     "name": "stdout",
     "output_type": "stream",
     "text": [
      "13\n",
      "12\n"
     ]
    }
   ],
   "source": [
    "black_tiles=q3_board.where(q3_board==black).count().sum()\n",
    "white_tiles=q3_board.where(q3_board==white).count().sum()\n",
    "print(black_tiles)\n",
    "print(white_tiles)"
   ]
  },
  {
   "cell_type": "code",
   "execution_count": 23,
   "id": "f23effe2",
   "metadata": {},
   "outputs": [
    {
     "name": "stdout",
     "output_type": "stream",
     "text": [
      "Can tile board\n"
     ]
    }
   ],
   "source": [
    "removed_black_tile = remove_one_corner(q3_board)\n",
    "proof(removed_black_tile)"
   ]
  },
  {
   "cell_type": "markdown",
   "id": "55c4dcef",
   "metadata": {},
   "source": [
    "<h4>Q3 answer</h4>\n",
    "<p>13</p>\n",
    "<p>Reason: remove 1 black tile to become able to tile. So 13 \"good tiles\"</p>"
   ]
  },
  {
   "cell_type": "markdown",
   "id": "ef92e20e",
   "metadata": {},
   "source": [
    "<h1>My Question to staff</h1>\n",
    "<p>Above I reasoned that my proof (in cell 8) was correct. But I needed to realize that the given board dataframes q1 (in cell 10) and q2 (in cell 14) were actually two seperate boards.</p>\n",
    "<p>q1 is fairly obvious because column 3 has no black or white tiles (represented by 1 or 2)</p>"
   ]
  },
  {
   "cell_type": "code",
   "execution_count": 24,
   "id": "6d6757f9",
   "metadata": {},
   "outputs": [
    {
     "data": {
      "text/plain": [
       "0    9\n",
       "1    9\n",
       "2    9\n",
       "3    9\n",
       "4    9\n",
       "5    9\n",
       "6    9\n",
       "7    8\n",
       "Name: 3, dtype: int64"
      ]
     },
     "execution_count": 24,
     "metadata": {},
     "output_type": "execute_result"
    }
   ],
   "source": [
    "q1[3]"
   ]
  },
  {
   "cell_type": "markdown",
   "id": "bf1a2fb4",
   "metadata": {},
   "source": [
    "<p>q2 is less obvious to me because there isn't a seperating row or column that is all 9 (invalid square) or 8 (tile from question)</p>"
   ]
  },
  {
   "cell_type": "code",
   "execution_count": 25,
   "id": "c6e2d754",
   "metadata": {},
   "outputs": [
    {
     "data": {
      "text/html": [
       "<div>\n",
       "<style scoped>\n",
       "    .dataframe tbody tr th:only-of-type {\n",
       "        vertical-align: middle;\n",
       "    }\n",
       "\n",
       "    .dataframe tbody tr th {\n",
       "        vertical-align: top;\n",
       "    }\n",
       "\n",
       "    .dataframe thead th {\n",
       "        text-align: right;\n",
       "    }\n",
       "</style>\n",
       "<table border=\"1\" class=\"dataframe\">\n",
       "  <thead>\n",
       "    <tr style=\"text-align: right;\">\n",
       "      <th></th>\n",
       "      <th>0</th>\n",
       "      <th>1</th>\n",
       "      <th>2</th>\n",
       "    </tr>\n",
       "  </thead>\n",
       "  <tbody>\n",
       "    <tr>\n",
       "      <th>0</th>\n",
       "      <td>1</td>\n",
       "      <td>2</td>\n",
       "      <td>1</td>\n",
       "    </tr>\n",
       "    <tr>\n",
       "      <th>1</th>\n",
       "      <td>2</td>\n",
       "      <td>1</td>\n",
       "      <td>2</td>\n",
       "    </tr>\n",
       "    <tr>\n",
       "      <th>2</th>\n",
       "      <td>1</td>\n",
       "      <td>2</td>\n",
       "      <td>1</td>\n",
       "    </tr>\n",
       "    <tr>\n",
       "      <th>3</th>\n",
       "      <td>9</td>\n",
       "      <td>9</td>\n",
       "      <td>2</td>\n",
       "    </tr>\n",
       "    <tr>\n",
       "      <th>4</th>\n",
       "      <td>9</td>\n",
       "      <td>9</td>\n",
       "      <td>1</td>\n",
       "    </tr>\n",
       "    <tr>\n",
       "      <th>5</th>\n",
       "      <td>9</td>\n",
       "      <td>9</td>\n",
       "      <td>2</td>\n",
       "    </tr>\n",
       "    <tr>\n",
       "      <th>6</th>\n",
       "      <td>9</td>\n",
       "      <td>9</td>\n",
       "      <td>8</td>\n",
       "    </tr>\n",
       "    <tr>\n",
       "      <th>7</th>\n",
       "      <td>9</td>\n",
       "      <td>9</td>\n",
       "      <td>8</td>\n",
       "    </tr>\n",
       "  </tbody>\n",
       "</table>\n",
       "</div>"
      ],
      "text/plain": [
       "   0  1  2\n",
       "0  1  2  1\n",
       "1  2  1  2\n",
       "2  1  2  1\n",
       "3  9  9  2\n",
       "4  9  9  1\n",
       "5  9  9  2\n",
       "6  9  9  8\n",
       "7  9  9  8"
      ]
     },
     "execution_count": 25,
     "metadata": {},
     "output_type": "execute_result"
    }
   ],
   "source": [
    "q2_b1"
   ]
  },
  {
   "cell_type": "code",
   "execution_count": 26,
   "id": "5289bc75",
   "metadata": {},
   "outputs": [
    {
     "data": {
      "text/html": [
       "<div>\n",
       "<style scoped>\n",
       "    .dataframe tbody tr th:only-of-type {\n",
       "        vertical-align: middle;\n",
       "    }\n",
       "\n",
       "    .dataframe tbody tr th {\n",
       "        vertical-align: top;\n",
       "    }\n",
       "\n",
       "    .dataframe thead th {\n",
       "        text-align: right;\n",
       "    }\n",
       "</style>\n",
       "<table border=\"1\" class=\"dataframe\">\n",
       "  <thead>\n",
       "    <tr style=\"text-align: right;\">\n",
       "      <th></th>\n",
       "      <th>3</th>\n",
       "      <th>4</th>\n",
       "      <th>5</th>\n",
       "      <th>6</th>\n",
       "    </tr>\n",
       "  </thead>\n",
       "  <tbody>\n",
       "    <tr>\n",
       "      <th>0</th>\n",
       "      <td>9</td>\n",
       "      <td>9</td>\n",
       "      <td>9</td>\n",
       "      <td>9</td>\n",
       "    </tr>\n",
       "    <tr>\n",
       "      <th>1</th>\n",
       "      <td>9</td>\n",
       "      <td>9</td>\n",
       "      <td>9</td>\n",
       "      <td>9</td>\n",
       "    </tr>\n",
       "    <tr>\n",
       "      <th>2</th>\n",
       "      <td>9</td>\n",
       "      <td>9</td>\n",
       "      <td>9</td>\n",
       "      <td>9</td>\n",
       "    </tr>\n",
       "    <tr>\n",
       "      <th>3</th>\n",
       "      <td>9</td>\n",
       "      <td>9</td>\n",
       "      <td>9</td>\n",
       "      <td>9</td>\n",
       "    </tr>\n",
       "    <tr>\n",
       "      <th>4</th>\n",
       "      <td>9</td>\n",
       "      <td>9</td>\n",
       "      <td>9</td>\n",
       "      <td>9</td>\n",
       "    </tr>\n",
       "    <tr>\n",
       "      <th>5</th>\n",
       "      <td>9</td>\n",
       "      <td>2</td>\n",
       "      <td>1</td>\n",
       "      <td>2</td>\n",
       "    </tr>\n",
       "    <tr>\n",
       "      <th>6</th>\n",
       "      <td>9</td>\n",
       "      <td>1</td>\n",
       "      <td>2</td>\n",
       "      <td>1</td>\n",
       "    </tr>\n",
       "    <tr>\n",
       "      <th>7</th>\n",
       "      <td>1</td>\n",
       "      <td>2</td>\n",
       "      <td>1</td>\n",
       "      <td>2</td>\n",
       "    </tr>\n",
       "  </tbody>\n",
       "</table>\n",
       "</div>"
      ],
      "text/plain": [
       "   3  4  5  6\n",
       "0  9  9  9  9\n",
       "1  9  9  9  9\n",
       "2  9  9  9  9\n",
       "3  9  9  9  9\n",
       "4  9  9  9  9\n",
       "5  9  2  1  2\n",
       "6  9  1  2  1\n",
       "7  1  2  1  2"
      ]
     },
     "execution_count": 26,
     "metadata": {},
     "output_type": "execute_result"
    }
   ],
   "source": [
    "q2_b2"
   ]
  },
  {
   "cell_type": "code",
   "execution_count": 27,
   "id": "48b5bd44",
   "metadata": {},
   "outputs": [
    {
     "data": {
      "text/html": [
       "<div>\n",
       "<style scoped>\n",
       "    .dataframe tbody tr th:only-of-type {\n",
       "        vertical-align: middle;\n",
       "    }\n",
       "\n",
       "    .dataframe tbody tr th {\n",
       "        vertical-align: top;\n",
       "    }\n",
       "\n",
       "    .dataframe thead th {\n",
       "        text-align: right;\n",
       "    }\n",
       "</style>\n",
       "<table border=\"1\" class=\"dataframe\">\n",
       "  <thead>\n",
       "    <tr style=\"text-align: right;\">\n",
       "      <th></th>\n",
       "      <th>0</th>\n",
       "      <th>1</th>\n",
       "      <th>2</th>\n",
       "      <th>3</th>\n",
       "      <th>4</th>\n",
       "      <th>5</th>\n",
       "      <th>6</th>\n",
       "    </tr>\n",
       "  </thead>\n",
       "  <tbody>\n",
       "    <tr>\n",
       "      <th>0</th>\n",
       "      <td>1</td>\n",
       "      <td>2</td>\n",
       "      <td>1</td>\n",
       "      <td>9</td>\n",
       "      <td>9</td>\n",
       "      <td>9</td>\n",
       "      <td>9</td>\n",
       "    </tr>\n",
       "    <tr>\n",
       "      <th>1</th>\n",
       "      <td>2</td>\n",
       "      <td>1</td>\n",
       "      <td>2</td>\n",
       "      <td>9</td>\n",
       "      <td>9</td>\n",
       "      <td>9</td>\n",
       "      <td>9</td>\n",
       "    </tr>\n",
       "    <tr>\n",
       "      <th>2</th>\n",
       "      <td>1</td>\n",
       "      <td>2</td>\n",
       "      <td>1</td>\n",
       "      <td>9</td>\n",
       "      <td>9</td>\n",
       "      <td>9</td>\n",
       "      <td>9</td>\n",
       "    </tr>\n",
       "    <tr>\n",
       "      <th>3</th>\n",
       "      <td>9</td>\n",
       "      <td>9</td>\n",
       "      <td>2</td>\n",
       "      <td>9</td>\n",
       "      <td>9</td>\n",
       "      <td>9</td>\n",
       "      <td>9</td>\n",
       "    </tr>\n",
       "    <tr>\n",
       "      <th>4</th>\n",
       "      <td>9</td>\n",
       "      <td>9</td>\n",
       "      <td>1</td>\n",
       "      <td>9</td>\n",
       "      <td>9</td>\n",
       "      <td>9</td>\n",
       "      <td>9</td>\n",
       "    </tr>\n",
       "    <tr>\n",
       "      <th>5</th>\n",
       "      <td>9</td>\n",
       "      <td>9</td>\n",
       "      <td>2</td>\n",
       "      <td>9</td>\n",
       "      <td>2</td>\n",
       "      <td>1</td>\n",
       "      <td>2</td>\n",
       "    </tr>\n",
       "    <tr>\n",
       "      <th>6</th>\n",
       "      <td>9</td>\n",
       "      <td>9</td>\n",
       "      <td>8</td>\n",
       "      <td>9</td>\n",
       "      <td>1</td>\n",
       "      <td>2</td>\n",
       "      <td>1</td>\n",
       "    </tr>\n",
       "    <tr>\n",
       "      <th>7</th>\n",
       "      <td>9</td>\n",
       "      <td>9</td>\n",
       "      <td>8</td>\n",
       "      <td>1</td>\n",
       "      <td>2</td>\n",
       "      <td>1</td>\n",
       "      <td>2</td>\n",
       "    </tr>\n",
       "  </tbody>\n",
       "</table>\n",
       "</div>"
      ],
      "text/plain": [
       "   0  1  2  3  4  5  6\n",
       "0  1  2  1  9  9  9  9\n",
       "1  2  1  2  9  9  9  9\n",
       "2  1  2  1  9  9  9  9\n",
       "3  9  9  2  9  9  9  9\n",
       "4  9  9  1  9  9  9  9\n",
       "5  9  9  2  9  2  1  2\n",
       "6  9  9  8  9  1  2  1\n",
       "7  9  9  8  1  2  1  2"
      ]
     },
     "execution_count": 27,
     "metadata": {},
     "output_type": "execute_result"
    }
   ],
   "source": [
    "q2"
   ]
  },
  {
   "cell_type": "markdown",
   "id": "d2f40bfc",
   "metadata": {},
   "source": [
    "<p>Could you help guide me to an answer?</p>\n",
    "<p>Is there a better way to approach this?</p>"
   ]
  },
  {
   "cell_type": "code",
   "execution_count": null,
   "id": "84ccbf4e",
   "metadata": {},
   "outputs": [],
   "source": []
  }
 ],
 "metadata": {
  "kernelspec": {
   "display_name": "Python 3",
   "language": "python",
   "name": "python3"
  },
  "language_info": {
   "codemirror_mode": {
    "name": "ipython",
    "version": 3
   },
   "file_extension": ".py",
   "mimetype": "text/x-python",
   "name": "python",
   "nbconvert_exporter": "python",
   "pygments_lexer": "ipython3",
   "version": "3.8.8"
  }
 },
 "nbformat": 4,
 "nbformat_minor": 5
}
