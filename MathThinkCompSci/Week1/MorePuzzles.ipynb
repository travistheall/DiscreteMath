{
 "cells": [
  {
   "cell_type": "code",
   "execution_count": 1,
   "id": "27da9251-64fa-4381-b4c0-6bf283ba6156",
   "metadata": {},
   "outputs": [],
   "source": [
    "import numpy as np\n",
    "import pandas as pd\n",
    "#6 digit number starting by 100 and divisible by 9217"
   ]
  },
  {
   "cell_type": "code",
   "execution_count": 2,
   "id": "c5abb31d-f01a-4cbe-8e8b-451e5cafa048",
   "metadata": {},
   "outputs": [
    {
     "name": "stdout",
     "output_type": "stream",
     "text": [
      "100397\n"
     ]
    }
   ],
   "source": [
    "# \"programming method\"\n",
    "for i in range(100000, 101000):\n",
    "    if i % 9127 == 0:\n",
    "        print(i)"
   ]
  },
  {
   "cell_type": "code",
   "execution_count": 3,
   "id": "e8c1c579-973f-4aec-a23e-3837733293e2",
   "metadata": {},
   "outputs": [
    {
     "data": {
      "text/plain": [
       "100397.0"
      ]
     },
     "execution_count": 3,
     "metadata": {},
     "output_type": "execute_result"
    }
   ],
   "source": [
    "# \"pen & paper\" method\n",
    "divisible_by = 9127\n",
    "np.ceil(100000/divisible_by) * divisible_by"
   ]
  },
  {
   "cell_type": "code",
   "execution_count": 4,
   "id": "21369356-4d92-4141-8090-aceb4c7b081e",
   "metadata": {},
   "outputs": [
    {
     "name": "stdout",
     "output_type": "stream",
     "text": [
      "first 100\n",
      "last 999\n"
     ]
    }
   ],
   "source": [
    "_100_thru_999 = [x for x in range(100,1000)]\n",
    "print(\"first\", _100_thru_999[0])\n",
    "print(\"last\", _100_thru_999[-1])"
   ]
  },
  {
   "cell_type": "code",
   "execution_count": 5,
   "id": "97dba87d-b7e7-433a-a321-2d71dd78b365",
   "metadata": {},
   "outputs": [
    {
     "name": "stdout",
     "output_type": "stream",
     "text": [
      "first 2\n",
      "last 7\n"
     ]
    }
   ],
   "source": [
    "_2_thru_7 = [x for x in range(2, 8)]\n",
    "print(\"first\", _2_thru_7[0])\n",
    "print(\"last\", _2_thru_7[-1])"
   ]
  },
  {
   "cell_type": "code",
   "execution_count": 6,
   "id": "676df97b-e8b1-40e5-8375-a025efdd4321",
   "metadata": {},
   "outputs": [
    {
     "data": {
      "text/plain": [
       "[421, 841]"
      ]
     },
     "execution_count": 6,
     "metadata": {},
     "output_type": "execute_result"
    }
   ],
   "source": [
    "# there exists a 3 digit number N-1 that produces a remainder\n",
    "# 1 when divided by 2,3,4,5,6,7\n",
    "N = []\n",
    "for n in _100_thru_999:\n",
    "    n_divisible_by_x = []\n",
    "    for x in _2_thru_7:\n",
    "        if n % x == 1:\n",
    "            n_divisible_by_x.append(x)\n",
    "    if len(n_divisible_by_x) == len(_2_thru_7):\n",
    "        N.append(n)\n",
    "\n",
    "\n",
    "N"
   ]
  },
  {
   "cell_type": "code",
   "execution_count": 7,
   "id": "056e0807-f811-4977-95d8-5d2c2fb4e80e",
   "metadata": {},
   "outputs": [
    {
     "name": "stdout",
     "output_type": "stream",
     "text": [
      "421 841\n"
     ]
    }
   ],
   "source": [
    "# 2 * 2 = 4\n",
    "# 2 * 3 = 6\n",
    "common_multiple = 2 * 2 * 3 * 5 * 7\n",
    "first = common_multiple + 1\n",
    "second = (common_multiple * 2) + 1 \n",
    "print(first, second)"
   ]
  },
  {
   "cell_type": "code",
   "execution_count": 8,
   "id": "48802286-d41e-4a90-b516-bd3d784205db",
   "metadata": {},
   "outputs": [
    {
     "data": {
      "text/plain": [
       "177.2427713617681"
      ]
     },
     "execution_count": 8,
     "metadata": {},
     "output_type": "execute_result"
    }
   ],
   "source": [
    "# find an integer n wher n**2 starts with 31415\n",
    "# a number to start with\n",
    "np.sqrt(31415)"
   ]
  },
  {
   "cell_type": "code",
   "execution_count": 44,
   "id": "09160e5e-5b4c-4ffe-a2b6-94e0ea062662",
   "metadata": {},
   "outputs": [
    {
     "data": {
      "text/plain": [
       "5"
      ]
     },
     "execution_count": 44,
     "metadata": {},
     "output_type": "execute_result"
    }
   ],
   "source": [
    "len('27182')"
   ]
  },
  {
   "cell_type": "code",
   "execution_count": 45,
   "id": "9c25b76f-d7eb-4509-818b-adb14210647f",
   "metadata": {},
   "outputs": [
    {
     "data": {
      "text/plain": [
       "[(16487, '271821169'),\n",
       " (52137, '2718266769'),\n",
       " (164870, '27182116900'),\n",
       " (164871, '27182446641'),\n",
       " (164872, '27182776384'),\n",
       " (521364, '271820420496'),\n",
       " (521365, '271821463225'),\n",
       " (521366, '271822505956'),\n",
       " (521367, '271823548689'),\n",
       " (521368, '271824591424'),\n",
       " (521369, '271825634161'),\n",
       " (521370, '271826676900'),\n",
       " (521371, '271827719641'),\n",
       " (521372, '271828762384'),\n",
       " (521373, '271829805129')]"
      ]
     },
     "execution_count": 45,
     "metadata": {},
     "output_type": "execute_result"
    }
   ],
   "source": [
    "# programatic method\n",
    "N = []\n",
    "for n in range(176, 1000000):\n",
    "    x = n * n\n",
    "    x_str = str(x)\n",
    "    if x_str[:len('27182')] == '27182':\n",
    "        N.append((n, x_str))\n",
    "\n",
    "\n",
    "N"
   ]
  },
  {
   "cell_type": "code",
   "execution_count": 10,
   "id": "62cd90e8-cf40-48a6-ba7f-1035bc28c2e6",
   "metadata": {},
   "outputs": [
    {
     "name": "stdout",
     "output_type": "stream",
     "text": [
      "177243.0 560491.0\n"
     ]
    }
   ],
   "source": [
    "# faster method\n",
    "easier1 = np.round(np.sqrt(31415) * 1000)\n",
    "easier2 = np.round(np.sqrt(3141.5) * 10000)\n",
    "print(easier1, easier2)"
   ]
  },
  {
   "cell_type": "code",
   "execution_count": 46,
   "id": "91610310-2106-4862-a1a8-3c4c1859620d",
   "metadata": {},
   "outputs": [
    {
     "data": {
      "text/plain": [
       "164870.0"
      ]
     },
     "execution_count": 46,
     "metadata": {},
     "output_type": "execute_result"
    }
   ],
   "source": [
    "# quiz \n",
    "# 1 Find a 5-digit integer N such that N^2 starts with 27182.\n",
    "easier1 = np.round(np.sqrt(27182) * 1000)\n",
    "easier1"
   ]
  },
  {
   "cell_type": "code",
   "execution_count": 11,
   "id": "85bda868-e079-49b5-a08b-527eef2a1ddd",
   "metadata": {},
   "outputs": [
    {
     "data": {
      "text/plain": [
       "6"
      ]
     },
     "execution_count": 11,
     "metadata": {},
     "output_type": "execute_result"
    }
   ],
   "source": [
    "# 2 ppl with 7/13 florin coins\n",
    "# can one pay 6 florins to the other\n",
    "person1 = 7 # florins \n",
    "person2 = 13 # florins\n",
    "person2 - person1"
   ]
  },
  {
   "cell_type": "code",
   "execution_count": 12,
   "id": "dfa06158-ece9-4fe2-ba48-9b8527969ca1",
   "metadata": {},
   "outputs": [
    {
     "data": {
      "text/plain": [
       "1"
      ]
     },
     "execution_count": 12,
     "metadata": {},
     "output_type": "execute_result"
    }
   ],
   "source": [
    "# he worded this weird\n",
    "# person 1 only has 7 flourin \"dollars\" so to speak\n",
    "# person 2 only has 13 flourin \"dollars\" so to speak\n",
    "\n",
    "# Is 1-florin payment possible when both people have \n",
    "# (unlimited amount) of 7- and 13-florin coins?\n",
    "person1 * 2 - person2"
   ]
  },
  {
   "cell_type": "code",
   "execution_count": 18,
   "id": "d37eb057-ab5a-40bb-92e0-f1b83ca46ac5",
   "metadata": {},
   "outputs": [
    {
     "data": {
      "text/plain": [
       "[(10, 5), (23, 12), (36, 19), (49, 26), (62, 33), (75, 40), (88, 47)]"
      ]
     },
     "execution_count": 18,
     "metadata": {},
     "output_type": "execute_result"
    }
   ],
   "source": [
    "# programatic\n",
    "poss = []\n",
    "for x in range(0,100):\n",
    "    x_flourins = x * person1\n",
    "    for y in range(0,100):\n",
    "        y_flourins = y * person2\n",
    "        resultant = x_flourins - y_flourins\n",
    "        if resultant == 5:\n",
    "            poss.append((x,y))\n",
    "        #if len(poss) > 0:\n",
    "        #    break\n",
    "\n",
    "\n",
    "poss"
   ]
  },
  {
   "cell_type": "code",
   "execution_count": 19,
   "id": "7307381b-e5b9-4c14-84ac-4e7e37f47376",
   "metadata": {},
   "outputs": [
    {
     "data": {
      "text/plain": [
       "5"
      ]
     },
     "execution_count": 19,
     "metadata": {},
     "output_type": "execute_result"
    }
   ],
   "source": [
    "10*7 - 5*13"
   ]
  },
  {
   "cell_type": "code",
   "execution_count": 14,
   "id": "fdc2d937-d67a-4243-957c-8441155ab24a",
   "metadata": {},
   "outputs": [
    {
     "data": {
      "text/plain": [
       "2"
      ]
     },
     "execution_count": 14,
     "metadata": {},
     "output_type": "execute_result"
    }
   ],
   "source": [
    "# easier is its possible to get 1 by 2*7 - 13\n",
    "# its possible to get 2 by 4*7 - 2*13\n",
    "4*person1 - 2*person2"
   ]
  },
  {
   "cell_type": "code",
   "execution_count": null,
   "id": "1d1f3edb-5d09-4f58-9055-7866517030ae",
   "metadata": {},
   "outputs": [],
   "source": [
    "# 7x + 13y = c\n",
    "# resultant has integer solutions\n",
    "# resultant = A*person1 + B*person2"
   ]
  },
  {
   "cell_type": "code",
   "execution_count": 16,
   "id": "789a4124-a59b-46de-bfa4-04c99e469d21",
   "metadata": {},
   "outputs": [
    {
     "data": {
      "text/plain": [
       "[(3, 2)]"
      ]
     },
     "execution_count": 16,
     "metadata": {},
     "output_type": "execute_result"
    }
   ],
   "source": [
    "# programatic\n",
    "poss = []\n",
    "for x in range(0,1000):\n",
    "    x_flourins = x * 15\n",
    "    for y in range(0,1000):\n",
    "        y_flourins = y * 21\n",
    "        resultant = x_flourins - y_flourins\n",
    "        if resultant == 3:\n",
    "            poss.append((x,y))\n",
    "        if len(poss) > 0:\n",
    "            break\n",
    "\n",
    "\n",
    "poss"
   ]
  },
  {
   "cell_type": "code",
   "execution_count": null,
   "id": "ed922d06-97f2-4fc7-bc2b-3d7c11333350",
   "metadata": {},
   "outputs": [],
   "source": [
    "# no because 15 and 21 are multiples of 3\n",
    "# if all payables are multiples of 3 can't get 8 or 1\n",
    "# 3 is possible so any multiple of 3 is payable\n",
    "# euclids algorithm"
   ]
  },
  {
   "cell_type": "markdown",
   "id": "94025618-7946-43d7-b91b-27395ad14ccc",
   "metadata": {},
   "source": [
    "Question 1\n",
    "<br />\n",
    "A town has three hotels. You have 10 vouchers for one-night stay for the first hotel, 15 for the second one, and 20 for the third one. The rules do not allow you to use vouchers for two consecutive nights in one hotel. Can you use them all for 10 + 15 + 20 = 45 consecutive nights changing the hotels each night?"
   ]
  },
  {
   "cell_type": "code",
   "execution_count": 41,
   "id": "b9ee7109-e1fd-4732-b6f0-bb0524788d54",
   "metadata": {},
   "outputs": [
    {
     "name": "stdout",
     "output_type": "stream",
     "text": [
      "possible\n",
      "['c', 'b', 'a', 'c', 'b', 'a', 'c', 'b', 'c']\n"
     ]
    }
   ],
   "source": [
    "hotels = {\n",
    "    'a':2,\n",
    "    'b':3,\n",
    "    'c':4\n",
    "}\n",
    "nights = 45\n",
    "available_hotels = len(list(hotels.keys()))\n",
    "path = []\n",
    "for night in range(int(nights/available_hotels)):\n",
    "    for hotel in ['c','b','a']:\n",
    "        if hotels[hotel] == 0:\n",
    "            pass\n",
    "        else:\n",
    "            hotels[hotel] -= 1\n",
    "            path.append(hotel)\n",
    "\n",
    "            \n",
    "previous = 'z'\n",
    "exception = []\n",
    "for p in path:\n",
    "    if p == previous:\n",
    "        exception.append(p)\n",
    "    previous = p\n",
    "    \n",
    "\n",
    "if len(exception) > 0:\n",
    "    print('not possible used same hotel at least twice in a row')\n",
    "    print(exception)\n",
    "    print(path)\n",
    "else:\n",
    "    print(\"possible\")\n",
    "    print(path)"
   ]
  },
  {
   "cell_type": "markdown",
   "id": "12affe63-fbdf-403f-bd03-fb6c3b924e64",
   "metadata": {},
   "source": [
    "Question 2\n",
    "<br />\n",
    "A town has three hotels. You have 10 vouchers for one-night stay for the first hotel, 15 for the second one, and 30 for the third one. The rules do not allow you to use vouchers for two consecutive nights in one hotel. Can you use them all for 10 + 15 + 30 = 55 consecutive nights changing the hotels each night?"
   ]
  },
  {
   "cell_type": "code",
   "execution_count": 36,
   "id": "57890906-4649-486b-adbb-31d883c7a5ab",
   "metadata": {},
   "outputs": [
    {
     "name": "stdout",
     "output_type": "stream",
     "text": [
      "not possible used same hotel at least twice in a row\n",
      "['c', 'c', 'c']\n"
     ]
    }
   ],
   "source": [
    "hotels = {\n",
    "    'a':10,\n",
    "    'b':15,\n",
    "    'c':30\n",
    "}\n",
    "nights = 55\n",
    "available_hotels = len(list(hotels.keys()))\n",
    "path = []\n",
    "for night in range(int(nights/available_hotels)):\n",
    "    for hotel in list(hotels.keys()):\n",
    "        if hotels[hotel] == 0:\n",
    "            pass\n",
    "        else:\n",
    "            hotels[hotel] -= 1\n",
    "            path.append(hotel)\n",
    "\n",
    "            \n",
    "previous = 'z'\n",
    "exception = []\n",
    "for p in path:\n",
    "    if p == previous:\n",
    "        exception.append(p)\n",
    "    previous = p\n",
    "    \n",
    "\n",
    "if len(exception) > 0:\n",
    "    print('not possible used same hotel at least twice in a row')\n",
    "    print(exception)\n",
    "else:\n",
    "    print(\"possible\")\n",
    "    print(path)"
   ]
  },
  {
   "cell_type": "code",
   "execution_count": null,
   "id": "50ca363f-02a5-4a54-8c42-52b515f085fe",
   "metadata": {},
   "outputs": [],
   "source": []
  }
 ],
 "metadata": {
  "kernelspec": {
   "display_name": "Python 3",
   "language": "python",
   "name": "python3"
  },
  "language_info": {
   "codemirror_mode": {
    "name": "ipython",
    "version": 3
   },
   "file_extension": ".py",
   "mimetype": "text/x-python",
   "name": "python",
   "nbconvert_exporter": "python",
   "pygments_lexer": "ipython3",
   "version": "3.8.8"
  }
 },
 "nbformat": 4,
 "nbformat_minor": 5
}
