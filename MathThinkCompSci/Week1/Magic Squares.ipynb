{
 "cells": [
  {
   "cell_type": "code",
   "execution_count": 1,
   "id": "2783f9b2",
   "metadata": {},
   "outputs": [],
   "source": [
    "import pandas as pd\n",
    "import numpy as np"
   ]
  },
  {
   "cell_type": "code",
   "execution_count": 2,
   "id": "c3e8f58d",
   "metadata": {},
   "outputs": [],
   "source": [
    "# https://docs.python.org/3.8/tutorial/errors.html#user-defined-exceptions\n",
    "\n",
    "class Error(Exception):\n",
    "    \"\"\"Base class for exceptions in this module.\"\"\"\n",
    "    pass\n",
    "\n",
    "\n",
    "class InputError(Error):\n",
    "    \"\"\"Exception raised for errors in the input.\n",
    "\n",
    "    Attributes:\n",
    "        expression -- input expression in which the error occurred\n",
    "        message -- explanation of the error\n",
    "    \"\"\"\n",
    "\n",
    "    def __init__(self, expression, message):\n",
    "        self.expression = expression\n",
    "        self.message = message"
   ]
  },
  {
   "cell_type": "markdown",
   "id": "0e966dc1",
   "metadata": {},
   "source": [
    "<h1>Summing Magic Squares</h1>\n",
    "\n",
    "<p>In this problem we are looking for a table where all rows and cols sum to the same number (z)</p>\n",
    "<p>a-i are the numbers 1-9</p>\n",
    "\n",
    "<table>\n",
    "    <tr>\n",
    "        <td>a</td>\n",
    "        <td>b</td>\n",
    "        <td>c</td>\n",
    "        <td>z</td>\n",
    "    </tr>\n",
    "    <tr>\n",
    "        <td>d</td>\n",
    "        <td>e</td>\n",
    "        <td>f</td>\n",
    "        <td>z</td>\n",
    "    </tr>\n",
    "    <tr>\n",
    "        <td>g</td>\n",
    "        <td>h</td>\n",
    "        <td>i</td>\n",
    "        <td>z</td>\n",
    "    </tr>\n",
    "        <tr>\n",
    "        <td>z</td>\n",
    "        <td>z</td>\n",
    "        <td>z</td>\n",
    "        <td>z</td>\n",
    "    </tr>\n",
    "</table>\n"
   ]
  },
  {
   "cell_type": "code",
   "execution_count": 17,
   "id": "e096f318",
   "metadata": {},
   "outputs": [
    {
     "name": "stdout",
     "output_type": "stream",
     "text": [
      "There are  362880  available configurations\n",
      "Initial configuration\n"
     ]
    },
    {
     "data": {
      "text/html": [
       "<div>\n",
       "<style scoped>\n",
       "    .dataframe tbody tr th:only-of-type {\n",
       "        vertical-align: middle;\n",
       "    }\n",
       "\n",
       "    .dataframe tbody tr th {\n",
       "        vertical-align: top;\n",
       "    }\n",
       "\n",
       "    .dataframe thead th {\n",
       "        text-align: right;\n",
       "    }\n",
       "</style>\n",
       "<table border=\"1\" class=\"dataframe\">\n",
       "  <thead>\n",
       "    <tr style=\"text-align: right;\">\n",
       "      <th></th>\n",
       "      <th>0</th>\n",
       "      <th>1</th>\n",
       "      <th>2</th>\n",
       "    </tr>\n",
       "  </thead>\n",
       "  <tbody>\n",
       "    <tr>\n",
       "      <th>0</th>\n",
       "      <td>1</td>\n",
       "      <td>2</td>\n",
       "      <td>3</td>\n",
       "    </tr>\n",
       "    <tr>\n",
       "      <th>1</th>\n",
       "      <td>4</td>\n",
       "      <td>5</td>\n",
       "      <td>6</td>\n",
       "    </tr>\n",
       "    <tr>\n",
       "      <th>2</th>\n",
       "      <td>7</td>\n",
       "      <td>8</td>\n",
       "      <td>9</td>\n",
       "    </tr>\n",
       "  </tbody>\n",
       "</table>\n",
       "</div>"
      ],
      "text/plain": [
       "   0  1  2\n",
       "0  1  2  3\n",
       "1  4  5  6\n",
       "2  7  8  9"
      ]
     },
     "execution_count": 17,
     "metadata": {},
     "output_type": "execute_result"
    }
   ],
   "source": [
    "class MagicSquare:\n",
    "    \"\"\"\n",
    "    Class that creates a 'magic' square pandas DataFrame where all rows,\n",
    "    columns, and diagonals sum to the same number\n",
    "    \n",
    "    Inputs:\n",
    "        - Size: integer\n",
    "    \"\"\"\n",
    "    def __init__(self, size):\n",
    "        self.size = size\n",
    "        self.cost = np.math.factorial(self.size**2)\n",
    "        self.original_df = pd.DataFrame(np.arange(self.size**2).reshape(self.size, self.size)) + 1\n",
    "        self.df = self.original_df.copy() \n",
    "        self.square_total = self.original_df.values.sum()\n",
    "        self.row_total = self.square_total / self.size\n",
    "        self.available_numbers = pd.Series(self.original_df.to_numpy().flatten())\n",
    "        self.test = self.Test(self)\n",
    "            \n",
    "    def update_df(self, row, col, val):\n",
    "        if val not in self.available_numbers.values:\n",
    "            print(self.available_numbers)\n",
    "            print(val)\n",
    "            raise InputError(val, f\"\"\"\n",
    "            Error: {val} is not an available number. Numbers must be between \n",
    "            {self.available_numbers.min()} and {self.available_numbers.max()}\n",
    "            \"\"\")\n",
    "        #TODO: Copy pasted code block\n",
    "        #up date to make error for row/col if > self.size\n",
    "        if val not in self.available_numbers.values:\n",
    "            print(self.available_numbers)\n",
    "            print(val)\n",
    "            raise InputError(val, f\"\"\"\n",
    "            Error: {val} is not an available number. Numbers must be between \n",
    "            {self.available_numbers.min()} and {self.available_numbers.max()}\n",
    "            \"\"\")\n",
    "        #TODO End Copy Paste\n",
    "        else:\n",
    "            self.df.at[row, col] = val\n",
    "            \n",
    "    class Test:\n",
    "        def __init__(self, magic_square):\n",
    "            self.magic_square = magic_square\n",
    "            self.df = magic_square.df\n",
    "            self.errors = []\n",
    "            self.passed = []\n",
    "\n",
    "        def check_run(self, run_bool, error_bool, message):\n",
    "            if error_bool:\n",
    "                if run_bool:\n",
    "                    self.errors.append(message)\n",
    "                else:\n",
    "                    print('Failed:', message)\n",
    "            else:\n",
    "                if run_bool:\n",
    "                    self.passed.append(message)\n",
    "                else:\n",
    "                    print('Passed:', message)\n",
    "\n",
    "\n",
    "        def duplicate_values(self, run=False):\n",
    "            msg = 'No duplicate values found'\n",
    "            if self.df.values.sum() != self.magic_square.square_total:\n",
    "                incorrect_values = pd.Series(self.df.to_numpy().flatten())\n",
    "                msg = ','.join(list(incorrect_values[incorrect_values.duplicated()].astype(str)))\n",
    "                msg = f'{msg} are duplicated.' \n",
    "                self.check_run(run, True, msg)\n",
    "            else:\n",
    "                self.check_run(run, False, msg)\n",
    "\n",
    "\n",
    "        def rows(self, run=False):\n",
    "            row_errors = []\n",
    "            for j in range(self.magic_square.size):\n",
    "                if self.df[j].sum() != self.magic_square.row_total:\n",
    "                    row_errors.append(j)\n",
    "            if len(row_errors) > 0:\n",
    "                row_errors = pd.Series(row_errors)\n",
    "                row_errors_str = row_errors.astype(str)\n",
    "                if row_errors.size == 1:\n",
    "                    msg = f'Row {row_errors_str[0]} is incorrect'\n",
    "                else:\n",
    "                    msg = ','.join(list(row_errors_str))\n",
    "                    msg = f'Rows {msg} are incorrect'\n",
    "                self.check_run(run, True, msg)\n",
    "            else:\n",
    "                self.check_run(run, False, 'Row sums are correct.')\n",
    "                \n",
    "\n",
    "        def columns(self, run=False):\n",
    "            col_errors = []\n",
    "            for j in range(self.magic_square.size):\n",
    "                if self.df.iloc[j].sum() != self.magic_square.row_total:\n",
    "                    col_errors.append(j)\n",
    "            if len(col_errors) > 0:\n",
    "                col_errors = pd.Series(col_errors)\n",
    "                col_errors_str = col_errors.astype(str)\n",
    "                if col_errors.size == 1:\n",
    "                    msg = f'Col {col_errors_str[0]} is incorrect'\n",
    "                    self.check_run(run, True, msg)\n",
    "                else:\n",
    "                    msg = ','.join(list(col_errors_str))\n",
    "                    msg = f'Cols {msg} are incorrect'\n",
    "                    self.check_run(run, True, msg)\n",
    "            else:\n",
    "                self.check_run(run, False, 'Column sums are correct.')\n",
    "\n",
    "\n",
    "        def bottomTopDiagonal(self, run=False):\n",
    "            msg = 'Sum of bottom to top diagonal is'\n",
    "            if np.flipud(self.df.to_numpy()).diagonal().sum() != self.magic_square.row_total:\n",
    "                msg += ' not correct'\n",
    "                self.check_run(run, True, msg)\n",
    "            else:\n",
    "                msg += ' correct'\n",
    "                self.check_run(run, False, msg)\n",
    "\n",
    "        def topBottomDiagonal(self, run=False):\n",
    "            msg = 'Sum of top to bottom diagnol is'\n",
    "            if self.df.to_numpy().diagonal().sum() != self.magic_square.row_total:\n",
    "                msg += ' not correct'\n",
    "                self.check_run(run, True, msg)\n",
    "            else:\n",
    "                msg += ' correct'\n",
    "                self.check_run(run, False, msg)\n",
    "\n",
    "\n",
    "        def run(self):\n",
    "            self.duplicate_values(True)\n",
    "            self.rows(True)\n",
    "            self.columns(True)\n",
    "            self.bottomTopDiagonal(True)\n",
    "            self.topBottomDiagonal(True)\n",
    "            if len(self.errors) == 0:\n",
    "                print('Passed All Tests!')\n",
    "            else:\n",
    "                print(f'{len(self.errors)} Tests Failed:')\n",
    "                for i, error in enumerate(self.errors):\n",
    "                    print(f'{i}: {error}')\n",
    "                print(f'{len(self.passed)} Tests Passed')\n",
    "                for i, passed in enumerate(self.passed):\n",
    "                    print(f'{i}: {passed}')\n",
    "\n",
    "            self.errors = []\n",
    "            self.passed = []\n",
    "    \n",
    "        \n",
    "    \n",
    "s = MagicSquare(3)\n",
    "print('There are ',s.cost,' available configurations')\n",
    "print('Initial configuration')\n",
    "s.df"
   ]
  },
  {
   "cell_type": "code",
   "execution_count": 4,
   "id": "54eb2b1f",
   "metadata": {},
   "outputs": [
    {
     "name": "stdout",
     "output_type": "stream",
     "text": [
      "A test of the initial configuration shows\n",
      "2 Tests Failed:\n",
      "0: Rows 0,2 are incorrect\n",
      "1: Cols 0,2 are incorrect\n",
      "3 Tests Passed\n",
      "0: No duplicate values found\n",
      "1: Sum of bottom to top diagonal is correct\n",
      "2: Sum of top to bottom diagnol is correct\n"
     ]
    }
   ],
   "source": [
    "print(\"A test of the initial configuration shows\")\n",
    "s.test.run()"
   ]
  },
  {
   "cell_type": "code",
   "execution_count": 5,
   "id": "78a03f55",
   "metadata": {},
   "outputs": [
    {
     "name": "stdout",
     "output_type": "stream",
     "text": [
      "A 3 x 3 magic square's rows, columnss, and diagonals must = 15.0\n"
     ]
    }
   ],
   "source": [
    "print(f\"A {s.size} x {s.size} magic square's rows, columnss, and diagonals must = {s.row_total}\")"
   ]
  },
  {
   "cell_type": "markdown",
   "id": "24689c08",
   "metadata": {},
   "source": [
    "<p>Above we assigned assigned values in order</p>\n",
    "<p>Below we are looking at a 3x3 square</p>\n",
    "<table>\n",
    "    <tr>\n",
    "        <td>a</td>\n",
    "        <td>b</td>\n",
    "        <td>c</td>\n",
    "        <td>15</td>\n",
    "    </tr>\n",
    "    <tr>\n",
    "        <td>d</td>\n",
    "        <td>e</td>\n",
    "        <td>f</td>\n",
    "        <td>15</td>\n",
    "    </tr>\n",
    "    <tr>\n",
    "        <td>g</td>\n",
    "        <td>h</td>\n",
    "        <td>i</td>\n",
    "        <td>15</td>\n",
    "    </tr>\n",
    "    <tr>\n",
    "        <td>15</td>\n",
    "        <td>15</td>\n",
    "        <td>15</td>\n",
    "        <td>15</td>\n",
    "    </tr>\n",
    "</table>"
   ]
  },
  {
   "cell_type": "markdown",
   "id": "c7927cb6",
   "metadata": {},
   "source": [
    "<p>A way to solve this w/o brute force is we sum the following four lines</p>\n",
    "<table>\n",
    "    <tr>\n",
    "        <th>diagonal 1</th>\n",
    "        <th>line1</th>\n",
    "        <th></th>\n",
    "    </tr>\n",
    "    <tr>\n",
    "        <td><b>a</b></td>\n",
    "        <td>b</td>\n",
    "        <td>c</td>\n",
    "    </tr>\n",
    "    <tr>\n",
    "        <td>d</td>\n",
    "        <td><b>e</b></td>\n",
    "        <td>f</td>\n",
    "    </tr>\n",
    "    <tr>\n",
    "        <td>g</td>\n",
    "        <td>h</td>\n",
    "        <td><b>i</b></td>\n",
    "    </tr>\n",
    "</table>"
   ]
  },
  {
   "cell_type": "markdown",
   "id": "9cb8be7d",
   "metadata": {},
   "source": [
    "<table>\n",
    "    <tr>\n",
    "        <th>diagonal 2</th>\n",
    "        <th>line2</th>\n",
    "        <th></th>\n",
    "    </tr>\n",
    "    <tr>\n",
    "        <td>a</td>\n",
    "        <td>b</td>\n",
    "        <td><b>c</b></td>\n",
    "    </tr>\n",
    "    <tr>\n",
    "        <td>d</td>\n",
    "        <td><b>e</b></td>\n",
    "        <td>f</td>\n",
    "    </tr>\n",
    "    <tr>\n",
    "        <td><b>g</b></td>\n",
    "        <td>h</td>\n",
    "        <td>i</td>\n",
    "    </tr>\n",
    "</table>"
   ]
  },
  {
   "cell_type": "markdown",
   "id": "4bd11c61",
   "metadata": {},
   "source": [
    "<table>\n",
    "    <tr>\n",
    "        <th>vertical</th>\n",
    "        <th>line3</th>\n",
    "        <th></th>\n",
    "    </tr>\n",
    "    <tr>\n",
    "        <td>a</td>\n",
    "        <td><b>b</b></td>\n",
    "        <td>c</td>\n",
    "    </tr>\n",
    "    <tr>\n",
    "        <td>d</td>\n",
    "        <td><b>e</b></td>\n",
    "        <td>f</td>\n",
    "    </tr>\n",
    "    <tr>\n",
    "        <td>g</td>\n",
    "        <td><b>h<b></td>\n",
    "        <td>i</td>\n",
    "    </tr>\n",
    "</table>"
   ]
  },
  {
   "cell_type": "markdown",
   "id": "04185552",
   "metadata": {},
   "source": [
    "<table>\n",
    "    <tr>\n",
    "        <th>horizontal</th>\n",
    "        <th>line4</th>\n",
    "        <th></th>\n",
    "    </tr>\n",
    "    <tr>\n",
    "        <td>a</td>\n",
    "        <td>b</td>\n",
    "        <td>c</td>   \n",
    "    </tr>\n",
    "    <tr>\n",
    "        <td><b>d</b></td>\n",
    "        <td><b>e</b></td>\n",
    "        <td><b>f</b></td>      \n",
    "    </tr>\n",
    "    <tr>\n",
    "        <td>g</td>\n",
    "        <td>h</td>\n",
    "        <td>i</td>  \n",
    "    </tr>\n",
    "</table>"
   ]
  },
  {
   "cell_type": "markdown",
   "id": "93b06da4",
   "metadata": {},
   "source": [
    "<h3>algebra</h3>\n",
    "<p>total_sum = a+b+c+d+e+f+g+h+i = 45</p>\n",
    "<p>total_sum = 3 * line_sum # given</p>\n",
    "<p>all_lines = a+e+i+c+e+g+b+e+h+d+e+f</p>\n",
    "<p>all_lines = 4 * line_sum = 60</p>\n",
    "<p>all_lines = a+b+c+d+ <b>4 * e</b> +f+g+h+i</p>\n",
    "<p>all_lines = total_sum + 3 * e</p>\n",
    "<p>4 * line_sum = 3 * line_sum + 3 * e</p>\n",
    "<p>line_sum = 3 * e</p>\n",
    "<p>line_sum / 3 = e</p>\n",
    "<p>15 / 3 = e</p>"
   ]
  },
  {
   "cell_type": "code",
   "execution_count": 6,
   "id": "7a9f0efa",
   "metadata": {},
   "outputs": [
    {
     "data": {
      "text/html": [
       "<div>\n",
       "<style scoped>\n",
       "    .dataframe tbody tr th:only-of-type {\n",
       "        vertical-align: middle;\n",
       "    }\n",
       "\n",
       "    .dataframe tbody tr th {\n",
       "        vertical-align: top;\n",
       "    }\n",
       "\n",
       "    .dataframe thead th {\n",
       "        text-align: right;\n",
       "    }\n",
       "</style>\n",
       "<table border=\"1\" class=\"dataframe\">\n",
       "  <thead>\n",
       "    <tr style=\"text-align: right;\">\n",
       "      <th></th>\n",
       "      <th>0</th>\n",
       "      <th>1</th>\n",
       "      <th>2</th>\n",
       "    </tr>\n",
       "  </thead>\n",
       "  <tbody>\n",
       "    <tr>\n",
       "      <th>0</th>\n",
       "      <td>1</td>\n",
       "      <td>2</td>\n",
       "      <td>3</td>\n",
       "    </tr>\n",
       "    <tr>\n",
       "      <th>1</th>\n",
       "      <td>4</td>\n",
       "      <td>5</td>\n",
       "      <td>6</td>\n",
       "    </tr>\n",
       "    <tr>\n",
       "      <th>2</th>\n",
       "      <td>7</td>\n",
       "      <td>8</td>\n",
       "      <td>9</td>\n",
       "    </tr>\n",
       "  </tbody>\n",
       "</table>\n",
       "</div>"
      ],
      "text/plain": [
       "   0  1  2\n",
       "0  1  2  3\n",
       "1  4  5  6\n",
       "2  7  8  9"
      ]
     },
     "execution_count": 6,
     "metadata": {},
     "output_type": "execute_result"
    }
   ],
   "source": [
    "s.update_df(1, 1, val=5)\n",
    "s.df"
   ]
  },
  {
   "cell_type": "markdown",
   "id": "257fdd63",
   "metadata": {},
   "source": [
    "<h3>1 has to be somewhere</h3>\n",
    "<p>either middle or corner</p>\n",
    "<h4>A corner?</h4>\n",
    "<table>\n",
    "    <tr>\n",
    "        <td><b>1</b></td>\n",
    "        <td>b</td>\n",
    "        <td>c</td>\n",
    "    </tr>\n",
    "    <tr>\n",
    "        <td>d</td>\n",
    "        <td><b>5</b></td>\n",
    "        <td>f</td>\n",
    "    </tr>\n",
    "    <tr>\n",
    "        <td>g</td>\n",
    "        <td>h</td>\n",
    "        <td><b>9</b></td>\n",
    "    </tr>\n",
    "</table>"
   ]
  },
  {
   "cell_type": "code",
   "execution_count": 7,
   "id": "71bc7c9d",
   "metadata": {},
   "outputs": [],
   "source": [
    "# s.update_df(0,0,1) lecture is wrong on purpose\n",
    "# s.update_df(2,2,9) lecture is wrong on purpose"
   ]
  },
  {
   "cell_type": "markdown",
   "id": "1ea21d49",
   "metadata": {},
   "source": [
    "<p>then b+c && d+g must = 14</p>\n",
    "<p>b+c could be 6+8</p>"
   ]
  },
  {
   "cell_type": "code",
   "execution_count": 8,
   "id": "cce4ec12",
   "metadata": {},
   "outputs": [],
   "source": [
    "# s.update_df(0,1,6) lecture is wrong on purpose\n",
    "# s.update_df(0,2,8) lecture is wrong on purpose"
   ]
  },
  {
   "cell_type": "markdown",
   "id": "235478c7",
   "metadata": {},
   "source": [
    "<p>no other numbers can sum to 14 so contradiction</p>\n",
    "<p>so 1 is not in corner</p>\n",
    "<p>so 1 must be on a side</p>\n",
    "<table>\n",
    "    <tr>\n",
    "        <td>a</td>\n",
    "        <td><b>9</b></td>\n",
    "        <td>c</td>\n",
    "    </tr>\n",
    "    <tr>\n",
    "        <td>d</td>\n",
    "        <td><b>5</b></td>\n",
    "        <td>f</td>\n",
    "    </tr>\n",
    "    <tr>\n",
    "        <td>g</td>\n",
    "        <td><b>1</b></td>\n",
    "        <td>i</td>\n",
    "    </tr>\n",
    "</table>"
   ]
  },
  {
   "cell_type": "markdown",
   "id": "02ae8039",
   "metadata": {},
   "source": [
    "<p>still must have 8&6 from before to = 14</p>\n",
    "<table>\n",
    "    <tr>\n",
    "        <td>a</td>\n",
    "        <td>9</td>\n",
    "        <td>c</td>\n",
    "    </tr>\n",
    "    <tr>\n",
    "        <td>d</td>\n",
    "        <td>5</td>\n",
    "        <td>f</td>\n",
    "    </tr>\n",
    "    <tr>\n",
    "        <td><b>8</b></td>\n",
    "        <td>1</td>\n",
    "        <td><b>6</b></td>\n",
    "    </tr>\n",
    "</table>"
   ]
  },
  {
   "cell_type": "code",
   "execution_count": 9,
   "id": "8eb665e4",
   "metadata": {},
   "outputs": [
    {
     "data": {
      "text/html": [
       "<div>\n",
       "<style scoped>\n",
       "    .dataframe tbody tr th:only-of-type {\n",
       "        vertical-align: middle;\n",
       "    }\n",
       "\n",
       "    .dataframe tbody tr th {\n",
       "        vertical-align: top;\n",
       "    }\n",
       "\n",
       "    .dataframe thead th {\n",
       "        text-align: right;\n",
       "    }\n",
       "</style>\n",
       "<table border=\"1\" class=\"dataframe\">\n",
       "  <thead>\n",
       "    <tr style=\"text-align: right;\">\n",
       "      <th></th>\n",
       "      <th>0</th>\n",
       "      <th>1</th>\n",
       "      <th>2</th>\n",
       "    </tr>\n",
       "  </thead>\n",
       "  <tbody>\n",
       "    <tr>\n",
       "      <th>0</th>\n",
       "      <td>1</td>\n",
       "      <td>9</td>\n",
       "      <td>3</td>\n",
       "    </tr>\n",
       "    <tr>\n",
       "      <th>1</th>\n",
       "      <td>4</td>\n",
       "      <td>5</td>\n",
       "      <td>6</td>\n",
       "    </tr>\n",
       "    <tr>\n",
       "      <th>2</th>\n",
       "      <td>8</td>\n",
       "      <td>1</td>\n",
       "      <td>6</td>\n",
       "    </tr>\n",
       "  </tbody>\n",
       "</table>\n",
       "</div>"
      ],
      "text/plain": [
       "   0  1  2\n",
       "0  1  9  3\n",
       "1  4  5  6\n",
       "2  8  1  6"
      ]
     },
     "execution_count": 9,
     "metadata": {},
     "output_type": "execute_result"
    }
   ],
   "source": [
    "b=9\n",
    "h=1\n",
    "g=8\n",
    "i=6\n",
    "s.update_df(0,1,b)\n",
    "s.update_df(2,1,h)\n",
    "s.update_df(2,0,g)\n",
    "s.update_df(2,2,i)\n",
    "s.df"
   ]
  },
  {
   "cell_type": "code",
   "execution_count": 10,
   "id": "51438c28",
   "metadata": {},
   "outputs": [],
   "source": [
    "c = s.row_total - s.df.at[2,0] - s.df.at[1,1]\n",
    "s.update_df(0,2,c)"
   ]
  },
  {
   "cell_type": "code",
   "execution_count": 11,
   "id": "cab4cd2d",
   "metadata": {},
   "outputs": [
    {
     "data": {
      "text/html": [
       "<div>\n",
       "<style scoped>\n",
       "    .dataframe tbody tr th:only-of-type {\n",
       "        vertical-align: middle;\n",
       "    }\n",
       "\n",
       "    .dataframe tbody tr th {\n",
       "        vertical-align: top;\n",
       "    }\n",
       "\n",
       "    .dataframe thead th {\n",
       "        text-align: right;\n",
       "    }\n",
       "</style>\n",
       "<table border=\"1\" class=\"dataframe\">\n",
       "  <thead>\n",
       "    <tr style=\"text-align: right;\">\n",
       "      <th></th>\n",
       "      <th>0</th>\n",
       "      <th>1</th>\n",
       "      <th>2</th>\n",
       "    </tr>\n",
       "  </thead>\n",
       "  <tbody>\n",
       "    <tr>\n",
       "      <th>0</th>\n",
       "      <td>4</td>\n",
       "      <td>9</td>\n",
       "      <td>2</td>\n",
       "    </tr>\n",
       "    <tr>\n",
       "      <th>1</th>\n",
       "      <td>4</td>\n",
       "      <td>5</td>\n",
       "      <td>6</td>\n",
       "    </tr>\n",
       "    <tr>\n",
       "      <th>2</th>\n",
       "      <td>8</td>\n",
       "      <td>1</td>\n",
       "      <td>6</td>\n",
       "    </tr>\n",
       "  </tbody>\n",
       "</table>\n",
       "</div>"
      ],
      "text/plain": [
       "   0  1  2\n",
       "0  4  9  2\n",
       "1  4  5  6\n",
       "2  8  1  6"
      ]
     },
     "execution_count": 11,
     "metadata": {},
     "output_type": "execute_result"
    }
   ],
   "source": [
    "a = s.row_total - s.df.at[2,2] - s.df.at[1,1]\n",
    "s.update_df(0,0,a)\n",
    "s.df"
   ]
  },
  {
   "cell_type": "markdown",
   "id": "463114f6",
   "metadata": {},
   "source": [
    "<p>still must have 8&6 from before to = 14</p>\n",
    "<table>\n",
    "    <tr>\n",
    "        <td><b>4</b></td>\n",
    "        <td>9</td>\n",
    "        <td><b>2</b></td>\n",
    "    </tr>\n",
    "    <tr>\n",
    "        <td>d</td>\n",
    "        <td>5</td>\n",
    "        <td>f</td>\n",
    "    </tr>\n",
    "    <tr>\n",
    "        <td>8</td>\n",
    "        <td>1</td>\n",
    "        <td>6</td>\n",
    "    </tr>\n",
    "</table>"
   ]
  },
  {
   "cell_type": "code",
   "execution_count": 12,
   "id": "28f18e5b",
   "metadata": {},
   "outputs": [],
   "source": [
    "d = s.row_total - s.df.at[0,0] - s.df.at[2,0]\n",
    "s.update_df(1,0,d)"
   ]
  },
  {
   "cell_type": "code",
   "execution_count": 13,
   "id": "190fd5d1",
   "metadata": {},
   "outputs": [
    {
     "data": {
      "text/html": [
       "<div>\n",
       "<style scoped>\n",
       "    .dataframe tbody tr th:only-of-type {\n",
       "        vertical-align: middle;\n",
       "    }\n",
       "\n",
       "    .dataframe tbody tr th {\n",
       "        vertical-align: top;\n",
       "    }\n",
       "\n",
       "    .dataframe thead th {\n",
       "        text-align: right;\n",
       "    }\n",
       "</style>\n",
       "<table border=\"1\" class=\"dataframe\">\n",
       "  <thead>\n",
       "    <tr style=\"text-align: right;\">\n",
       "      <th></th>\n",
       "      <th>0</th>\n",
       "      <th>1</th>\n",
       "      <th>2</th>\n",
       "    </tr>\n",
       "  </thead>\n",
       "  <tbody>\n",
       "    <tr>\n",
       "      <th>0</th>\n",
       "      <td>4</td>\n",
       "      <td>9</td>\n",
       "      <td>2</td>\n",
       "    </tr>\n",
       "    <tr>\n",
       "      <th>1</th>\n",
       "      <td>3</td>\n",
       "      <td>5</td>\n",
       "      <td>7</td>\n",
       "    </tr>\n",
       "    <tr>\n",
       "      <th>2</th>\n",
       "      <td>8</td>\n",
       "      <td>1</td>\n",
       "      <td>6</td>\n",
       "    </tr>\n",
       "  </tbody>\n",
       "</table>\n",
       "</div>"
      ],
      "text/plain": [
       "   0  1  2\n",
       "0  4  9  2\n",
       "1  3  5  7\n",
       "2  8  1  6"
      ]
     },
     "execution_count": 13,
     "metadata": {},
     "output_type": "execute_result"
    }
   ],
   "source": [
    "f = s.row_total - s.df.at[2,2] - s.df.at[0,2]\n",
    "s.update_df(1,2,f)\n",
    "s.df"
   ]
  },
  {
   "cell_type": "code",
   "execution_count": 14,
   "id": "b2e111f5",
   "metadata": {},
   "outputs": [
    {
     "name": "stdout",
     "output_type": "stream",
     "text": [
      "Passed All Tests!\n"
     ]
    }
   ],
   "source": [
    "s.test.run()"
   ]
  },
  {
   "cell_type": "markdown",
   "id": "7fe95866",
   "metadata": {},
   "source": [
    "<h1>Multiplicative Magic Square</h1>\n",
    "<p>same concept as above, but instead of rows / cols being added they are mutliplied</p>\n",
    "<p>2^x+y = 2^x * 2^y</p>\n",
    "<p>exponentiation: addition -> multiplication</p>\n",
    "<table>\n",
    "    <tr>\n",
    "        <td>2^4</td>\n",
    "        <td>2^9</td>\n",
    "        <td>2^2</td>\n",
    "        <td>2^15</td>\n",
    "    </tr>\n",
    "    <tr>\n",
    "        <td>2^3</td>\n",
    "        <td>2^5</td>\n",
    "        <td>2^7</td>\n",
    "        <td>2^15</td>\n",
    "    </tr>\n",
    "    <tr>\n",
    "        <td>2^8</td>\n",
    "        <td>2^1</td>\n",
    "        <td>2^6</td>\n",
    "        <td>2^15</td>\n",
    "    </tr>\n",
    "    <tr>\n",
    "        <td>2^15</td>\n",
    "        <td>2^15</td>\n",
    "        <td>2^15</td>\n",
    "        <td>2^15</td>\n",
    "    </tr>\n",
    "</table>"
   ]
  },
  {
   "cell_type": "code",
   "execution_count": 15,
   "id": "e817296d",
   "metadata": {},
   "outputs": [],
   "source": [
    "matrix1 = pd.DataFrame([\n",
    "    [1,2,0],\n",
    "    [0,1,2],\n",
    "    [2,0,1]\n",
    "])\n",
    "matrix2 = pd.DataFrame([\n",
    "    [0,2,1],\n",
    "    [2,1,0],\n",
    "    [1,0,2]\n",
    "])"
   ]
  },
  {
   "cell_type": "code",
   "execution_count": 16,
   "id": "adfd096d",
   "metadata": {},
   "outputs": [
    {
     "data": {
      "text/html": [
       "<div>\n",
       "<style scoped>\n",
       "    .dataframe tbody tr th:only-of-type {\n",
       "        vertical-align: middle;\n",
       "    }\n",
       "\n",
       "    .dataframe tbody tr th {\n",
       "        vertical-align: top;\n",
       "    }\n",
       "\n",
       "    .dataframe thead th {\n",
       "        text-align: right;\n",
       "    }\n",
       "</style>\n",
       "<table border=\"1\" class=\"dataframe\">\n",
       "  <thead>\n",
       "    <tr style=\"text-align: right;\">\n",
       "      <th></th>\n",
       "      <th>0</th>\n",
       "      <th>1</th>\n",
       "      <th>2</th>\n",
       "    </tr>\n",
       "  </thead>\n",
       "  <tbody>\n",
       "    <tr>\n",
       "      <th>0</th>\n",
       "      <td>1</td>\n",
       "      <td>4</td>\n",
       "      <td>0</td>\n",
       "    </tr>\n",
       "    <tr>\n",
       "      <th>1</th>\n",
       "      <td>0</td>\n",
       "      <td>1</td>\n",
       "      <td>4</td>\n",
       "    </tr>\n",
       "    <tr>\n",
       "      <th>2</th>\n",
       "      <td>4</td>\n",
       "      <td>0</td>\n",
       "      <td>1</td>\n",
       "    </tr>\n",
       "  </tbody>\n",
       "</table>\n",
       "</div>"
      ],
      "text/plain": [
       "   0  1  2\n",
       "0  1  4  0\n",
       "1  0  1  4\n",
       "2  4  0  1"
      ]
     },
     "execution_count": 16,
     "metadata": {},
     "output_type": "execute_result"
    }
   ],
   "source": [
    "matrix1.pow(2)"
   ]
  },
  {
   "cell_type": "code",
   "execution_count": null,
   "id": "d19c6bec",
   "metadata": {},
   "outputs": [],
   "source": []
  },
  {
   "cell_type": "code",
   "execution_count": 1,
   "id": "da64687b",
   "metadata": {},
   "outputs": [],
   "source": [
    "board_rows = 8\n",
    "board_cols = 8\n",
    "tile_size = 200\n",
    "board_width = tile_size * board_rows\n",
    "board_height = tile_size * board_cols"
   ]
  },
  {
   "cell_type": "code",
   "execution_count": 2,
   "id": "5d6940d3-11e8-48ff-b98a-be00f9873fad",
   "metadata": {},
   "outputs": [
    {
     "data": {
      "text/plain": [
       "200"
      ]
     },
     "execution_count": 2,
     "metadata": {},
     "output_type": "execute_result"
    }
   ],
   "source": [
    "board_width // board_rows"
   ]
  },
  {
   "cell_type": "code",
   "execution_count": 3,
   "id": "bfe97474-f684-4e7c-ad05-fc3a658502c2",
   "metadata": {},
   "outputs": [
    {
     "data": {
      "text/plain": [
       "200.0"
      ]
     },
     "execution_count": 3,
     "metadata": {},
     "output_type": "execute_result"
    }
   ],
   "source": [
    "board_width / board_rows"
   ]
  },
  {
   "cell_type": "code",
   "execution_count": 6,
   "id": "a3aa30fd-6a49-4a4d-881f-2b37755efc8d",
   "metadata": {},
   "outputs": [
    {
     "data": {
      "text/plain": [
       "0"
      ]
     },
     "execution_count": 6,
     "metadata": {},
     "output_type": "execute_result"
    }
   ],
   "source": [
    "2%2"
   ]
  },
  {
   "cell_type": "code",
   "execution_count": null,
   "id": "891457b0-44d7-45fd-b5c0-3e5b1e94a07a",
   "metadata": {},
   "outputs": [],
   "source": []
  }
 ],
 "metadata": {
  "kernelspec": {
   "display_name": "Python 3",
   "language": "python",
   "name": "python3"
  },
  "language_info": {
   "codemirror_mode": {
    "name": "ipython",
    "version": 3
   },
   "file_extension": ".py",
   "mimetype": "text/x-python",
   "name": "python",
   "nbconvert_exporter": "python",
   "pygments_lexer": "ipython3",
   "version": "3.8.8"
  }
 },
 "nbformat": 4,
 "nbformat_minor": 5
}
